{
  "cells": [
    {
      "cell_type": "markdown",
      "metadata": {
        "id": "view-in-github",
        "colab_type": "text"
      },
      "source": [
        "<a href=\"https://colab.research.google.com/github/abhinandtk/python_data_types/blob/main/python_task1.ipynb\" target=\"_parent\"><img src=\"https://colab.research.google.com/assets/colab-badge.svg\" alt=\"Open In Colab\"/></a>"
      ]
    },
    {
      "cell_type": "code",
      "execution_count": null,
      "metadata": {
        "id": "FoHKF1-hcKn0"
      },
      "outputs": [],
      "source": [
        "1. Create a list with all items and create new list from the existing list"
      ]
    },
    {
      "cell_type": "code",
      "execution_count": null,
      "metadata": {
        "id": "l6MSYWjBcPRO"
      },
      "outputs": [],
      "source": [
        "li=[\"hello\",\"this\",\"is \",\"python\",1,2,3,4]"
      ]
    },
    {
      "cell_type": "code",
      "execution_count": null,
      "metadata": {
        "id": "zeRX6eyLcpIT"
      },
      "outputs": [],
      "source": [
        "li1=li[:5]"
      ]
    },
    {
      "cell_type": "code",
      "execution_count": null,
      "metadata": {
        "colab": {
          "base_uri": "https://localhost:8080/"
        },
        "id": "kWCf7mOTgUnx",
        "outputId": "0c130276-5b21-450a-e1b8-8dc3e2c3e364"
      },
      "outputs": [
        {
          "data": {
            "text/plain": [
              "['hello', 'this', 'is ', 'python', 1]"
            ]
          },
          "execution_count": 18,
          "metadata": {},
          "output_type": "execute_result"
        }
      ],
      "source": [
        "li1#created"
      ]
    },
    {
      "cell_type": "code",
      "execution_count": null,
      "metadata": {
        "id": "TdI8vra9dK2T"
      },
      "outputs": [],
      "source": [
        "2. Create a list and print the itwms from second index to sixth index"
      ]
    },
    {
      "cell_type": "code",
      "execution_count": null,
      "metadata": {
        "id": "PBnq4vAZdqvo"
      },
      "outputs": [],
      "source": [
        "li2=[\"ronaldo\",\"neymar\",\"messi\",\"suarez\",\"mbappe\",\"benzema\",\"kaka\"]"
      ]
    },
    {
      "cell_type": "code",
      "execution_count": null,
      "metadata": {
        "colab": {
          "base_uri": "https://localhost:8080/"
        },
        "id": "wkN5dxbCd-yC",
        "outputId": "a7b7e2ac-5b76-420d-c372-570c152f48d1"
      },
      "outputs": [
        {
          "data": {
            "text/plain": [
              "['messi', 'suarez', 'mbappe', 'benzema']"
            ]
          },
          "execution_count": 19,
          "metadata": {},
          "output_type": "execute_result"
        }
      ],
      "source": [
        "li2[2:6]#created"
      ]
    },
    {
      "cell_type": "code",
      "execution_count": null,
      "metadata": {
        "id": "sCnAau_neKn2"
      },
      "outputs": [],
      "source": [
        "3. Create tuple and perform inser, append operations. Print the index of second last element."
      ]
    },
    {
      "cell_type": "code",
      "execution_count": null,
      "metadata": {
        "id": "mEbSxGwOedfB"
      },
      "outputs": [],
      "source": [
        "t1=(\"ronaldo\",\"neymar\",\"messi\",\"suarez\",\"mbappe\",\"benzema\",\"kaka\")"
      ]
    },
    {
      "cell_type": "code",
      "execution_count": null,
      "metadata": {
        "id": "mJADAhTLexZl"
      },
      "outputs": [],
      "source": [
        "x=list(t1)"
      ]
    },
    {
      "cell_type": "code",
      "execution_count": null,
      "metadata": {
        "id": "-mHfILm_fdCs"
      },
      "outputs": [],
      "source": [
        "x.insert(2,\"beckam\")#insert"
      ]
    },
    {
      "cell_type": "code",
      "execution_count": null,
      "metadata": {
        "id": "yTc64wCgftjm"
      },
      "outputs": [],
      "source": [
        "x.append(\"cafu\")#append"
      ]
    },
    {
      "cell_type": "code",
      "execution_count": null,
      "metadata": {
        "colab": {
          "base_uri": "https://localhost:8080/"
        },
        "id": "vDotLd0CgosN",
        "outputId": "344d6287-12ab-446f-a805-a1d5455e844e"
      },
      "outputs": [
        {
          "data": {
            "text/plain": [
              "['ronaldo',\n",
              " 'neymar',\n",
              " 'beckam',\n",
              " 'beckam',\n",
              " 'messi',\n",
              " 'suarez',\n",
              " 'mbappe',\n",
              " 'benzema',\n",
              " 'kaka',\n",
              " 'cafu']"
            ]
          },
          "execution_count": 21,
          "metadata": {},
          "output_type": "execute_result"
        }
      ],
      "source": [
        "x"
      ]
    },
    {
      "cell_type": "code",
      "execution_count": null,
      "metadata": {
        "id": "hjk975-lg54h"
      },
      "outputs": [],
      "source": [
        "t2=tuple(x)"
      ]
    },
    {
      "cell_type": "code",
      "execution_count": null,
      "metadata": {
        "colab": {
          "base_uri": "https://localhost:8080/"
        },
        "id": "f7o2FVWLhqPi",
        "outputId": "15527aa9-a381-4345-aba7-fb1a325ae114"
      },
      "outputs": [
        {
          "data": {
            "text/plain": [
              "9"
            ]
          },
          "execution_count": 29,
          "metadata": {},
          "output_type": "execute_result"
        }
      ],
      "source": [
        "t2.index(x[-2])"
      ]
    },
    {
      "cell_type": "code",
      "execution_count": null,
      "metadata": {
        "colab": {
          "base_uri": "https://localhost:8080/",
          "height": 36
        },
        "id": "vnR-p8ZSiC0p",
        "outputId": "d16b1a66-d256-47d9-ab07-6796edb1e064"
      },
      "outputs": [
        {
          "data": {
            "application/vnd.google.colaboratory.intrinsic+json": {
              "type": "string"
            },
            "text/plain": [
              "'benzema'"
            ]
          },
          "execution_count": 34,
          "metadata": {},
          "output_type": "execute_result"
        }
      ],
      "source": [
        "x[-4]"
      ]
    },
    {
      "cell_type": "code",
      "execution_count": null,
      "metadata": {
        "id": "l6ImIuDbigJU"
      },
      "outputs": [],
      "source": [
        "t3=(\"ronaldo\",\"neymar\",\"messi\",\"suarez\")"
      ]
    },
    {
      "cell_type": "code",
      "execution_count": null,
      "metadata": {
        "id": "GKT1pCByju6P"
      },
      "outputs": [],
      "source": [
        "\n",
        "\n",
        "x = t3.index(\"messi\")"
      ]
    },
    {
      "cell_type": "code",
      "execution_count": null,
      "metadata": {
        "colab": {
          "base_uri": "https://localhost:8080/"
        },
        "id": "epzgXHGHkCB6",
        "outputId": "d613b1bc-bae7-45d2-94a3-7e16acc20d54"
      },
      "outputs": [
        {
          "data": {
            "text/plain": [
              "2"
            ]
          },
          "execution_count": 40,
          "metadata": {},
          "output_type": "execute_result"
        }
      ],
      "source": [
        "x"
      ]
    },
    {
      "cell_type": "code",
      "execution_count": null,
      "metadata": {
        "id": "9cj8yIOPkJ5y"
      },
      "outputs": [],
      "source": [
        "x = t3.index(t3[-2])#index of second last element"
      ]
    },
    {
      "cell_type": "code",
      "execution_count": null,
      "metadata": {
        "colab": {
          "base_uri": "https://localhost:8080/"
        },
        "id": "EDCe_WaokQXk",
        "outputId": "4554ba6f-124b-4047-ccd9-76d86636fbbe"
      },
      "outputs": [
        {
          "data": {
            "text/plain": [
              "2"
            ]
          },
          "execution_count": 42,
          "metadata": {},
          "output_type": "execute_result"
        }
      ],
      "source": [
        "x"
      ]
    },
    {
      "cell_type": "code",
      "execution_count": null,
      "metadata": {
        "colab": {
          "base_uri": "https://localhost:8080/",
          "height": 36
        },
        "id": "N6mDSyApkQ1d",
        "outputId": "eb24b21e-0ea1-46c0-d804-c3efaae0b9de"
      },
      "outputs": [
        {
          "data": {
            "application/vnd.google.colaboratory.intrinsic+json": {
              "type": "string"
            },
            "text/plain": [
              "'messi'"
            ]
          },
          "execution_count": 44,
          "metadata": {},
          "output_type": "execute_result"
        }
      ],
      "source": [
        "t3[-2]"
      ]
    },
    {
      "cell_type": "code",
      "execution_count": null,
      "metadata": {
        "id": "SzR9VWjAkdJz"
      },
      "outputs": [],
      "source": [
        "4. Create a set with 7 elements and perform the following,\n",
        "     * add an element\n",
        "     * remove an element"
      ]
    },
    {
      "cell_type": "code",
      "execution_count": null,
      "metadata": {
        "id": "9xUKpphT6wnI"
      },
      "outputs": [],
      "source": [
        "s1={1,2,3,4,5,6,7}"
      ]
    },
    {
      "cell_type": "code",
      "execution_count": null,
      "metadata": {
        "id": "ZLIFLd1E7CUB"
      },
      "outputs": [],
      "source": [
        "s1.add(8)#add an element"
      ]
    },
    {
      "cell_type": "code",
      "execution_count": null,
      "metadata": {
        "colab": {
          "base_uri": "https://localhost:8080/"
        },
        "id": "vYgnJEVr7SSo",
        "outputId": "c2bb38d7-5904-411f-8436-02e602915301"
      },
      "outputs": [
        {
          "data": {
            "text/plain": [
              "{1, 2, 3, 4, 5, 6, 7, 8}"
            ]
          },
          "execution_count": 4,
          "metadata": {},
          "output_type": "execute_result"
        }
      ],
      "source": [
        "s1"
      ]
    },
    {
      "cell_type": "code",
      "execution_count": null,
      "metadata": {
        "id": "yHrMqks671Bl"
      },
      "outputs": [],
      "source": [
        "s1.remove(7)#remove an element"
      ]
    },
    {
      "cell_type": "code",
      "execution_count": null,
      "metadata": {
        "colab": {
          "base_uri": "https://localhost:8080/"
        },
        "id": "ypPq7kxp77tk",
        "outputId": "fbf38e0a-c3a3-416d-8520-794a3c444bd2"
      },
      "outputs": [
        {
          "data": {
            "text/plain": [
              "{1, 2, 3, 4, 5, 6}"
            ]
          },
          "execution_count": 9,
          "metadata": {},
          "output_type": "execute_result"
        }
      ],
      "source": [
        "s1"
      ]
    },
    {
      "cell_type": "markdown",
      "metadata": {
        "id": "8yErVa2r787u"
      },
      "source": [
        "1.write a python program to sum all the items in a list"
      ]
    },
    {
      "cell_type": "code",
      "execution_count": null,
      "metadata": {
        "id": "FebhG8u99edG"
      },
      "outputs": [],
      "source": [
        "x=[1,3,5,8]"
      ]
    },
    {
      "cell_type": "code",
      "execution_count": null,
      "metadata": {
        "colab": {
          "base_uri": "https://localhost:8080/"
        },
        "id": "1nFNu--V-oX1",
        "outputId": "e56c5b14-9ca4-4f4a-ed8f-a8659f67c240"
      },
      "outputs": [
        {
          "data": {
            "text/plain": [
              "17"
            ]
          },
          "execution_count": 15,
          "metadata": {},
          "output_type": "execute_result"
        }
      ],
      "source": [
        "x[0]+x[1]+x[2]+x[3]#add items in a list"
      ]
    },
    {
      "cell_type": "code",
      "execution_count": null,
      "metadata": {
        "id": "m5O2PSJl-vMv"
      },
      "outputs": [],
      "source": [
        "li=[1,2,3,10,100]"
      ]
    },
    {
      "cell_type": "code",
      "execution_count": null,
      "metadata": {
        "id": "CjxVgUikAI9c"
      },
      "outputs": [],
      "source": [
        "2.write a python program to get largest number from a list"
      ]
    },
    {
      "cell_type": "code",
      "execution_count": null,
      "metadata": {
        "colab": {
          "base_uri": "https://localhost:8080/"
        },
        "id": "lLlQ_2cX_ZGn",
        "outputId": "45f94ce2-935e-4144-d85d-6c074bc2dcda"
      },
      "outputs": [
        {
          "data": {
            "text/plain": [
              "100"
            ]
          },
          "execution_count": 20,
          "metadata": {},
          "output_type": "execute_result"
        }
      ],
      "source": [
        "max(li)#get the largest number"
      ]
    },
    {
      "cell_type": "code",
      "execution_count": null,
      "metadata": {
        "id": "nnHnJBg0AGYf"
      },
      "outputs": [],
      "source": [
        "3.write a python program to get smallest number from a list"
      ]
    },
    {
      "cell_type": "code",
      "execution_count": null,
      "metadata": {
        "colab": {
          "base_uri": "https://localhost:8080/"
        },
        "id": "quZMQjgc_vWV",
        "outputId": "1653d2a6-34cb-4b95-9358-25cf9f1da64c"
      },
      "outputs": [
        {
          "data": {
            "text/plain": [
              "1"
            ]
          },
          "execution_count": 18,
          "metadata": {},
          "output_type": "execute_result"
        }
      ],
      "source": [
        "min(li)#get the minimum number"
      ]
    },
    {
      "cell_type": "code",
      "execution_count": null,
      "metadata": {
        "id": "dJ6xzWB2_3OA"
      },
      "outputs": [],
      "source": [
        "4.write a python program to check the list is empty or not"
      ]
    },
    {
      "cell_type": "code",
      "execution_count": null,
      "metadata": {
        "id": "dJVweWqwAd_3"
      },
      "outputs": [],
      "source": [
        "length=len(li)"
      ]
    },
    {
      "cell_type": "code",
      "execution_count": null,
      "metadata": {
        "colab": {
          "base_uri": "https://localhost:8080/"
        },
        "id": "7fSSOQRpA2-G",
        "outputId": "cc80c60f-ab62-4720-f057-a37ef88a7499"
      },
      "outputs": [
        {
          "name": "stdout",
          "output_type": "stream",
          "text": [
            "list is not empty\n"
          ]
        }
      ],
      "source": [
        "if(length==0):\n",
        "  print(\"list is empty\")\n",
        "else:\n",
        "  print(\"list is not empty\")#list is empty or not"
      ]
    },
    {
      "cell_type": "code",
      "execution_count": null,
      "metadata": {
        "id": "sy7B1hmUBF-W"
      },
      "outputs": [],
      "source": [
        "5.write a python program to copy a list"
      ]
    },
    {
      "cell_type": "code",
      "execution_count": null,
      "metadata": {
        "id": "IcCGOdWnBe-j"
      },
      "outputs": [],
      "source": [
        "li1=li#copy a list"
      ]
    },
    {
      "cell_type": "code",
      "execution_count": null,
      "metadata": {
        "colab": {
          "base_uri": "https://localhost:8080/"
        },
        "id": "UQayy5OuBlXv",
        "outputId": "6d18174c-88e0-4ed1-ca0d-2f95f5055350"
      },
      "outputs": [
        {
          "data": {
            "text/plain": [
              "[1, 2, 3, 10, 100]"
            ]
          },
          "execution_count": 28,
          "metadata": {},
          "output_type": "execute_result"
        }
      ],
      "source": [
        "li1"
      ]
    },
    {
      "cell_type": "code",
      "execution_count": null,
      "metadata": {
        "id": "1M4hESheDSmA"
      },
      "outputs": [],
      "source": [
        "6.write a python program to access the index of a list"
      ]
    },
    {
      "cell_type": "code",
      "execution_count": null,
      "metadata": {
        "colab": {
          "base_uri": "https://localhost:8080/"
        },
        "id": "f4L-MOMlDoV-",
        "outputId": "4b94b53e-8c19-462e-c151-7189d07aa80a"
      },
      "outputs": [
        {
          "data": {
            "text/plain": [
              "3"
            ]
          },
          "execution_count": 31,
          "metadata": {},
          "output_type": "execute_result"
        }
      ],
      "source": [
        "li.index(10)#access the index"
      ]
    },
    {
      "cell_type": "code",
      "execution_count": null,
      "metadata": {
        "id": "DTB10aOiD9LD"
      },
      "outputs": [],
      "source": [
        "7.write a python program to append a list to the second list"
      ]
    },
    {
      "cell_type": "code",
      "execution_count": null,
      "metadata": {
        "id": "8bqeJsbjEVYE"
      },
      "outputs": [],
      "source": [
        "li2=[8,9,10]"
      ]
    },
    {
      "cell_type": "code",
      "execution_count": null,
      "metadata": {
        "colab": {
          "base_uri": "https://localhost:8080/"
        },
        "id": "-UuKPM_yEchN",
        "outputId": "457a8710-0157-4c18-f50a-7d86f6598803"
      },
      "outputs": [
        {
          "data": {
            "text/plain": [
              "[1, 2, 3, 10, 100, 8, 9, 10]"
            ]
          },
          "execution_count": 34,
          "metadata": {},
          "output_type": "execute_result"
        }
      ],
      "source": [
        "li+li2#append lists"
      ]
    },
    {
      "cell_type": "code",
      "execution_count": null,
      "metadata": {
        "id": "IJinPEZcEeHy"
      },
      "outputs": [],
      "source": [
        "8.write a python program to extend a list without append"
      ]
    },
    {
      "cell_type": "code",
      "execution_count": null,
      "metadata": {
        "id": "iOLFAjpTd70Y"
      },
      "outputs": [],
      "source": [
        "li=[1,2,3]"
      ]
    },
    {
      "cell_type": "code",
      "execution_count": null,
      "metadata": {
        "id": "sxncOB-BeC-O"
      },
      "outputs": [],
      "source": [
        "li2=[4,5,6]"
      ]
    },
    {
      "cell_type": "code",
      "execution_count": null,
      "metadata": {
        "colab": {
          "base_uri": "https://localhost:8080/"
        },
        "id": "CZ87XF1SeQoP",
        "outputId": "cd495006-d8e2-4eef-b9ce-5dd5e0a7acf1"
      },
      "outputs": [
        {
          "data": {
            "text/plain": [
              "[1, 2, 3, 4, 5, 6]"
            ]
          },
          "execution_count": 11,
          "metadata": {},
          "output_type": "execute_result"
        }
      ],
      "source": [
        "li+li2"
      ]
    },
    {
      "cell_type": "code",
      "execution_count": null,
      "metadata": {
        "id": "8I8NGGOkebgF"
      },
      "outputs": [],
      "source": [
        "9.write a python program to concatentate elements of a list"
      ]
    },
    {
      "cell_type": "code",
      "execution_count": null,
      "metadata": {
        "colab": {
          "base_uri": "https://localhost:8080/"
        },
        "id": "iIqXI0ru182x",
        "outputId": "9d027148-603e-4921-fa9f-dd1b3b182311"
      },
      "outputs": [
        {
          "name": "stdout",
          "output_type": "stream",
          "text": [
            "15\n"
          ]
        }
      ],
      "source": [
        "li=[1,2,3,4,5]\n",
        "sum=0\n",
        "for i in li:\n",
        "  sum=sum+i\n",
        "print(sum)"
      ]
    },
    {
      "cell_type": "code",
      "execution_count": null,
      "metadata": {
        "id": "O2_j7OQj3Vpx"
      },
      "outputs": [],
      "source": [
        "10.write a python program to convert a string t a list"
      ]
    },
    {
      "cell_type": "code",
      "execution_count": null,
      "metadata": {
        "id": "kx7HGVbO2ri8"
      },
      "outputs": [],
      "source": [
        "x=\"a\",\"b\""
      ]
    },
    {
      "cell_type": "code",
      "execution_count": null,
      "metadata": {
        "id": "o7fa4d493MyM"
      },
      "outputs": [],
      "source": [
        "li=list(x)"
      ]
    },
    {
      "cell_type": "code",
      "execution_count": null,
      "metadata": {
        "colab": {
          "base_uri": "https://localhost:8080/"
        },
        "id": "UnhWhzsy3Q4z",
        "outputId": "8de9b3d6-2af3-40a6-e372-f9c5047f3548"
      },
      "outputs": [
        {
          "data": {
            "text/plain": [
              "['a', 'b']"
            ]
          },
          "execution_count": 4,
          "metadata": {},
          "output_type": "execute_result"
        }
      ],
      "source": [
        "li"
      ]
    },
    {
      "cell_type": "code",
      "execution_count": null,
      "metadata": {
        "id": "04Up_lDm3Sw2"
      },
      "outputs": [],
      "source": [
        "11.write a python program to select the odd items of a list"
      ]
    },
    {
      "cell_type": "code",
      "execution_count": null,
      "metadata": {
        "colab": {
          "base_uri": "https://localhost:8080/"
        },
        "id": "L_d43SWC4Dbc",
        "outputId": "7a741c98-118c-4389-8118-3d1b847213f7"
      },
      "outputs": [
        {
          "name": "stdout",
          "output_type": "stream",
          "text": [
            "1\n",
            "3\n",
            "5\n",
            "7\n",
            "9\n"
          ]
        }
      ],
      "source": [
        "li=[1,2,3,4,5,6,7,8,9,10]\n",
        "for i in li:\n",
        "  if(i%2!=0):\n",
        "    print(i)"
      ]
    },
    {
      "cell_type": "code",
      "execution_count": null,
      "metadata": {
        "id": "KduqTJUN4zu6"
      },
      "outputs": [],
      "source": [
        "12.write a python program to find common items from two lists"
      ]
    },
    {
      "cell_type": "code",
      "execution_count": null,
      "metadata": {
        "colab": {
          "base_uri": "https://localhost:8080/"
        },
        "id": "hEuCAP6E5IbL",
        "outputId": "7730c22e-84fe-48fd-d388-552b587f8677"
      },
      "outputs": [
        {
          "name": "stdout",
          "output_type": "stream",
          "text": [
            "{4, 5, 6, 7}\n"
          ]
        }
      ],
      "source": [
        "li1=[1,2,3,4,5,6,7]\n",
        "li2=[4,5,6,7,8,9]\n",
        "print(set(li1)&set(li2))"
      ]
    },
    {
      "cell_type": "code",
      "execution_count": null,
      "metadata": {
        "id": "387ZQVLr7l6G"
      },
      "outputs": [],
      "source": [
        "13.write a python program to get unique values from a list"
      ]
    },
    {
      "cell_type": "code",
      "execution_count": null,
      "metadata": {
        "colab": {
          "base_uri": "https://localhost:8080/"
        },
        "id": "r2HappFE8ZiY",
        "outputId": "dc623e48-46a2-4350-8daf-48963b7e48c5"
      },
      "outputs": [
        {
          "data": {
            "text/plain": [
              "{1, 2, 3, 4}"
            ]
          },
          "execution_count": 16,
          "metadata": {},
          "output_type": "execute_result"
        }
      ],
      "source": [
        "li3=[1,2,3,4,4]\n",
        "set(li3)"
      ]
    },
    {
      "cell_type": "code",
      "execution_count": null,
      "metadata": {
        "colab": {
          "base_uri": "https://localhost:8080/"
        },
        "id": "pN6dVtOXBGpf",
        "outputId": "5e5a4a10-bea0-42ec-83a6-59099f1fadc3"
      },
      "outputs": [
        {
          "name": "stdout",
          "output_type": "stream",
          "text": [
            "suarez\n",
            "kaka\n"
          ]
        }
      ],
      "source": [
        "li=[\"messi\",\"suarez\",\"neymar\",\"kaka\",\"ronaldinho\"]\n",
        "for i in range(0,4):\n",
        "  if(i%2!=0):\n",
        "    print(li[i])"
      ]
    },
    {
      "cell_type": "code",
      "execution_count": null,
      "metadata": {
        "colab": {
          "base_uri": "https://localhost:8080/"
        },
        "id": "0p81U2nibH3X",
        "outputId": "fa43f8df-fe5f-4b2b-fee1-7f536ec29768"
      },
      "outputs": [
        {
          "output_type": "stream",
          "name": "stdout",
          "text": [
            "enter limit4\n",
            "enter the values1\n",
            "enter the values2\n",
            "enter the values3\n",
            "enter the values4\n",
            "[2, 4]\n"
          ]
        }
      ],
      "source": [
        "n=[]\n",
        "li1=[]\n",
        "a=int(input(\"enter limit\"))\n",
        "for i in range(0,a):\n",
        " b=int(input(\"enter the values\"))          #odd items from a list\n",
        " li1.append(b)\n",
        " if(i%2!=0):\n",
        "  n.append(li1[i])\n",
        "print(n)\n",
        "\n"
      ]
    },
    {
      "cell_type": "code",
      "execution_count": null,
      "metadata": {
        "colab": {
          "base_uri": "https://localhost:8080/"
        },
        "id": "QLsVoGO8eSlT",
        "outputId": "dc025839-a3b6-4aa9-89b4-b6f185e9aef6"
      },
      "outputs": [
        {
          "name": "stdout",
          "output_type": "stream",
          "text": [
            "enter your nameiuhy\n",
            "enter your namehbhn\n",
            "enter your nameuyhu\n",
            "enter your nameygyutb\n",
            "['iuhy', 'hbhn', 'uyhu', 'ygyutb']\n"
          ]
        }
      ],
      "source": [
        "li=[]\n",
        "for i in range(0,4):\n",
        "  x=input(\"enter your name\")\n",
        "  li.append(x)\n",
        "print(li)\n"
      ]
    },
    {
      "cell_type": "code",
      "execution_count": null,
      "metadata": {
        "colab": {
          "background_save": true,
          "base_uri": "https://localhost:8080/"
        },
        "id": "nOiLdqkbJBfY",
        "outputId": "7f67016c-6caf-4af4-d88a-065ec3d5398f"
      },
      "outputs": [
        {
          "name": "stdout",
          "output_type": "stream",
          "text": [
            "['ybgvbh']\n",
            "['ybgvbh', 'b hb ']\n",
            "['ybgvbh', 'b hb ', 'jn']\n",
            "['ybgvbh', 'b hb ', 'jn', 'yhyby']\n"
          ]
        }
      ],
      "source": [
        "lii=[]\n",
        "while True:\n",
        "  x=input(\"enter your name\")\n",
        "  lii.append(x)\n",
        "  print(lii)\n"
      ]
    },
    {
      "cell_type": "code",
      "execution_count": null,
      "metadata": {
        "id": "Kuug0oVEJ9qP"
      },
      "outputs": [],
      "source": [
        "nm"
      ]
    }
  ],
  "metadata": {
    "colab": {
      "provenance": [],
      "authorship_tag": "ABX9TyOvY7va+bziItJxcRpmZamd",
      "include_colab_link": true
    },
    "kernelspec": {
      "display_name": "Python 3",
      "name": "python3"
    },
    "language_info": {
      "name": "python"
    }
  },
  "nbformat": 4,
  "nbformat_minor": 0
}