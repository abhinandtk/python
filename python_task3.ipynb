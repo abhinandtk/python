{
  "nbformat": 4,
  "nbformat_minor": 0,
  "metadata": {
    "colab": {
      "provenance": [],
      "authorship_tag": "ABX9TyOmnJczVvahuewvp/j6kXGv",
      "include_colab_link": true
    },
    "kernelspec": {
      "name": "python3",
      "display_name": "Python 3"
    },
    "language_info": {
      "name": "python"
    }
  },
  "cells": [
    {
      "cell_type": "markdown",
      "metadata": {
        "id": "view-in-github",
        "colab_type": "text"
      },
      "source": [
        "<a href=\"https://colab.research.google.com/github/abhinandtk/python_data_types/blob/main/python_task3.ipynb\" target=\"_parent\"><img src=\"https://colab.research.google.com/assets/colab-badge.svg\" alt=\"Open In Colab\"/></a>"
      ]
    },
    {
      "cell_type": "code",
      "execution_count": null,
      "metadata": {
        "id": "K7ul0QQTUn2D"
      },
      "outputs": [],
      "source": [
        "# 1. Write a program to find Greatest among three numbers?\n",
        "# 2. Write a program to print first 10 numbers?\n",
        "# 3. Write a program to find Smallest among three numbers?\n",
        "# 4. Write a program to print Even Numbers from 1-50?\n",
        "# 5. Write a program to print odd numbers from 1-50?\n",
        "# 6. Write a program to find character of given integer?\n",
        "# 7. Write a program to find integer value of given input char?\n",
        "# 8. Write a program to print array of elements ?\n",
        "# 9. Write a program to find sum two arrays?\n",
        "# 10. Sum of even numbers using array?"
      ]
    },
    {
      "cell_type": "code",
      "source": [
        "# 1. Write a program to find Greatest among three numbers?"
      ],
      "metadata": {
        "id": "k9x0KZaGU1eB"
      },
      "execution_count": null,
      "outputs": []
    },
    {
      "cell_type": "code",
      "source": [
        "a=int(input(\"enter first number\"))\n",
        "b=int(input(\"enter second number\"))\n",
        "c=int(input(\"enter third number\"))\n",
        "if(a>b and a>c):\n",
        " print(\"a is the greatest number\")\n",
        "elif(b>a and b>c):\n",
        " print(\"b is the greatest number\")\n",
        "else:\n",
        " print(\"c is the greatest number\")\n",
        "\n",
        "\n"
      ],
      "metadata": {
        "colab": {
          "base_uri": "https://localhost:8080/"
        },
        "id": "R36zy0hnVqrI",
        "outputId": "3dfff46b-b2c5-4e80-ac64-26e91a7d157d"
      },
      "execution_count": null,
      "outputs": [
        {
          "output_type": "stream",
          "name": "stdout",
          "text": [
            "enter first number32\n",
            "enter second number34\n",
            "enter third number35\n",
            "c is the greatest number\n"
          ]
        }
      ]
    },
    {
      "cell_type": "code",
      "source": [
        "# 2. Write a program to print first 10 numbers?"
      ],
      "metadata": {
        "id": "d0WUa5hOWumN"
      },
      "execution_count": null,
      "outputs": []
    },
    {
      "cell_type": "code",
      "source": [
        "for i in range(0,11):\n",
        " print(i)"
      ],
      "metadata": {
        "colab": {
          "base_uri": "https://localhost:8080/"
        },
        "id": "KPWfkfn8W47E",
        "outputId": "f09bbf60-cca2-438b-fec0-280f65852ed6"
      },
      "execution_count": null,
      "outputs": [
        {
          "output_type": "stream",
          "name": "stdout",
          "text": [
            "0\n",
            "1\n",
            "2\n",
            "3\n",
            "4\n",
            "5\n",
            "6\n",
            "7\n",
            "8\n",
            "9\n",
            "10\n"
          ]
        }
      ]
    },
    {
      "cell_type": "code",
      "source": [
        "# 3. Write a program to find Smallest among three numbers?"
      ],
      "metadata": {
        "id": "NcCPmzHJXInF"
      },
      "execution_count": null,
      "outputs": []
    },
    {
      "cell_type": "code",
      "source": [
        "a=int(input(\"enter a\"))\n",
        "b=int(input(\"enter b\"))\n",
        "c=int(input(\"enter cr\"))\n",
        "if(a<b and a<c):\n",
        " print(\"a is the smallest number\")\n",
        "elif(b<a and b<c):\n",
        " print(\"b is the smallest number\")\n",
        "else:\n",
        " print(\"c is the smallest number\")\n",
        "\n"
      ],
      "metadata": {
        "colab": {
          "base_uri": "https://localhost:8080/"
        },
        "id": "Tvgj13WoXP5W",
        "outputId": "30a080fc-6a20-4c3e-e00c-1afd73fe43be"
      },
      "execution_count": null,
      "outputs": [
        {
          "output_type": "stream",
          "name": "stdout",
          "text": [
            "enter a22\n",
            "enter b23\n",
            "enter cr24\n",
            "a is the smallest number\n"
          ]
        }
      ]
    },
    {
      "cell_type": "code",
      "source": [
        "# 4. Write a program to print Even Numbers from 1-50?"
      ],
      "metadata": {
        "id": "s7bhucLUXfI_"
      },
      "execution_count": null,
      "outputs": []
    },
    {
      "cell_type": "code",
      "source": [
        "for i in range(1,51):\n",
        " if(i%2==0):\n",
        "  print(i)"
      ],
      "metadata": {
        "colab": {
          "base_uri": "https://localhost:8080/"
        },
        "id": "04gJntbqX6b7",
        "outputId": "356ab9c1-8f85-4d23-9ba0-a8596ad7c6d1"
      },
      "execution_count": null,
      "outputs": [
        {
          "output_type": "stream",
          "name": "stdout",
          "text": [
            "2\n",
            "4\n",
            "6\n",
            "8\n",
            "10\n",
            "12\n",
            "14\n",
            "16\n",
            "18\n",
            "20\n",
            "22\n",
            "24\n",
            "26\n",
            "28\n",
            "30\n",
            "32\n",
            "34\n",
            "36\n",
            "38\n",
            "40\n",
            "42\n",
            "44\n",
            "46\n",
            "48\n",
            "50\n"
          ]
        }
      ]
    },
    {
      "cell_type": "code",
      "source": [
        "# 5. Write a program to print odd numbers from 1-50?"
      ],
      "metadata": {
        "id": "1EaoZAU_YenN"
      },
      "execution_count": null,
      "outputs": []
    },
    {
      "cell_type": "code",
      "source": [
        "for i in range(1,51):\n",
        " if(i%2!=0):\n",
        "  print(i)"
      ],
      "metadata": {
        "colab": {
          "base_uri": "https://localhost:8080/"
        },
        "id": "K9Etp891YlQt",
        "outputId": "8c794c03-af5f-4e4e-f775-290744f2c1eb"
      },
      "execution_count": null,
      "outputs": [
        {
          "output_type": "stream",
          "name": "stdout",
          "text": [
            "1\n",
            "3\n",
            "5\n",
            "7\n",
            "9\n",
            "11\n",
            "13\n",
            "15\n",
            "17\n",
            "19\n",
            "21\n",
            "23\n",
            "25\n",
            "27\n",
            "29\n",
            "31\n",
            "33\n",
            "35\n",
            "37\n",
            "39\n",
            "41\n",
            "43\n",
            "45\n",
            "47\n",
            "49\n"
          ]
        }
      ]
    },
    {
      "cell_type": "code",
      "source": [
        "# 6. Write a program to find character of given integer?"
      ],
      "metadata": {
        "id": "MQD0E1omYwRi"
      },
      "execution_count": null,
      "outputs": []
    },
    {
      "cell_type": "code",
      "source": [],
      "metadata": {
        "id": "MxqZkhDQbsxL"
      },
      "execution_count": null,
      "outputs": []
    },
    {
      "cell_type": "code",
      "source": [
        "# 7. Write a program to find integer value of given input char?"
      ],
      "metadata": {
        "id": "ZEbJGVvpaLG6"
      },
      "execution_count": null,
      "outputs": []
    },
    {
      "cell_type": "code",
      "source": [],
      "metadata": {
        "id": "B_Yz6Og_aZIv"
      },
      "execution_count": null,
      "outputs": []
    },
    {
      "cell_type": "code",
      "source": [
        "# 8. Write a program to print array of elements ?"
      ],
      "metadata": {
        "id": "EmEGu8Tubxrc"
      },
      "execution_count": null,
      "outputs": []
    },
    {
      "cell_type": "code",
      "source": [
        "li=[1,2,3,4,5,6,7,8,9]\n",
        "print(li)"
      ],
      "metadata": {
        "colab": {
          "base_uri": "https://localhost:8080/"
        },
        "id": "Yrnaw5Jyb3xf",
        "outputId": "792a458d-738b-4737-e0e0-a8a153a703a2"
      },
      "execution_count": null,
      "outputs": [
        {
          "output_type": "stream",
          "name": "stdout",
          "text": [
            "[1, 2, 3, 4, 5, 6, 7, 8, 9]\n"
          ]
        }
      ]
    },
    {
      "cell_type": "code",
      "source": [
        "# 9. Write a program to find sum two arrays?"
      ],
      "metadata": {
        "id": "1OpwrAmZcMWO"
      },
      "execution_count": null,
      "outputs": []
    },
    {
      "cell_type": "code",
      "source": [
        "li2=[2,4,5,6,8]\n",
        "li+li2"
      ],
      "metadata": {
        "colab": {
          "base_uri": "https://localhost:8080/"
        },
        "id": "Gf8XjcAzcaOM",
        "outputId": "c3676de7-73f2-4ffd-e9d3-3454dca631ff"
      },
      "execution_count": null,
      "outputs": [
        {
          "output_type": "execute_result",
          "data": {
            "text/plain": [
              "[1, 2, 3, 4, 5, 6, 7, 8, 9, 2, 4, 5, 6, 8]"
            ]
          },
          "metadata": {},
          "execution_count": 20
        }
      ]
    },
    {
      "cell_type": "code",
      "source": [
        "# 10. Sum of even numbers using array?"
      ],
      "metadata": {
        "id": "voeLhno4cgZR"
      },
      "execution_count": null,
      "outputs": []
    },
    {
      "cell_type": "code",
      "source": [
        "li=[1,2,3,4,5,6,7,8,9]\n",
        "sum(li)"
      ],
      "metadata": {
        "colab": {
          "base_uri": "https://localhost:8080/"
        },
        "id": "ukNA1-Oycn9G",
        "outputId": "fd383c51-68c2-49c8-bae7-7261bc0da841"
      },
      "execution_count": null,
      "outputs": [
        {
          "output_type": "execute_result",
          "data": {
            "text/plain": [
              "45"
            ]
          },
          "metadata": {},
          "execution_count": 23
        }
      ]
    },
    {
      "cell_type": "code",
      "source": [],
      "metadata": {
        "id": "CH1aWOEKdHYB"
      },
      "execution_count": null,
      "outputs": []
    }
  ]
}