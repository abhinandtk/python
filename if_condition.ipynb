{
  "nbformat": 4,
  "nbformat_minor": 0,
  "metadata": {
    "colab": {
      "provenance": [],
      "authorship_tag": "ABX9TyOOfOmsSJQj3M5mVmOXY4lf",
      "include_colab_link": true
    },
    "kernelspec": {
      "name": "python3",
      "display_name": "Python 3"
    },
    "language_info": {
      "name": "python"
    }
  },
  "cells": [
    {
      "cell_type": "markdown",
      "metadata": {
        "id": "view-in-github",
        "colab_type": "text"
      },
      "source": [
        "<a href=\"https://colab.research.google.com/github/abhinandtk/python_data_types/blob/main/if_condition.ipynb\" target=\"_parent\"><img src=\"https://colab.research.google.com/assets/colab-badge.svg\" alt=\"Open In Colab\"/></a>"
      ]
    },
    {
      "cell_type": "code",
      "execution_count": null,
      "metadata": {
        "id": "-FfuWpqKuNgr"
      },
      "outputs": [],
      "source": [
        "a=10"
      ]
    },
    {
      "cell_type": "code",
      "source": [
        "b=20"
      ],
      "metadata": {
        "id": "mgqryptVuefd"
      },
      "execution_count": null,
      "outputs": []
    },
    {
      "cell_type": "code",
      "source": [
        "if(a<=b):\n",
        "  print(True)\n",
        "else:\n",
        "  print(false)"
      ],
      "metadata": {
        "colab": {
          "base_uri": "https://localhost:8080/"
        },
        "id": "xMDCyNUuugVM",
        "outputId": "abb750db-36b6-46ac-a22b-ba29c6807019"
      },
      "execution_count": null,
      "outputs": [
        {
          "output_type": "stream",
          "name": "stdout",
          "text": [
            "True\n"
          ]
        }
      ]
    },
    {
      "cell_type": "code",
      "source": [
        "c=int(input(\"enter a number\"))\n",
        "if(c>0):\n",
        "  print(\"positive number\")\n",
        "else:\n",
        "  print(\"negative number\")"
      ],
      "metadata": {
        "colab": {
          "base_uri": "https://localhost:8080/"
        },
        "id": "mPqABK8Cvg8Q",
        "outputId": "5e543500-3d07-4207-8739-deb0f6ccc046"
      },
      "execution_count": null,
      "outputs": [
        {
          "output_type": "stream",
          "name": "stdout",
          "text": [
            "enter a number-3\n",
            "negative number\n"
          ]
        }
      ]
    },
    {
      "cell_type": "code",
      "source": [
        "a"
      ],
      "metadata": {
        "colab": {
          "base_uri": "https://localhost:8080/"
        },
        "id": "Dj1V8D2vv6bg",
        "outputId": "f4fc01a0-b1e1-4a1f-e354-a2cfe8ef802f"
      },
      "execution_count": null,
      "outputs": [
        {
          "output_type": "execute_result",
          "data": {
            "text/plain": [
              "10"
            ]
          },
          "metadata": {},
          "execution_count": 7
        }
      ]
    },
    {
      "cell_type": "code",
      "source": [
        "d=int(input(\"enter a number\"))\n",
        "if(d%2==0):\n",
        "  print(\"number is even\")\n",
        "else:\n",
        "  print(\"number is odd\")"
      ],
      "metadata": {
        "colab": {
          "base_uri": "https://localhost:8080/"
        },
        "id": "Ed41yaVPwGyt",
        "outputId": "31a94c5e-9a09-41dc-9fbd-9dc44f3659ea"
      },
      "execution_count": null,
      "outputs": [
        {
          "output_type": "stream",
          "name": "stdout",
          "text": [
            "enter a number3\n",
            "number is odd\n"
          ]
        }
      ]
    },
    {
      "cell_type": "code",
      "source": [
        "e=int(input(\"type your bill amount :\"))\n",
        "if(e>=2000):\n",
        "  offer=e/10\n",
        "  bill=e-offer\n",
        "  print(\"your offer is : \",offer)\n",
        "  print(\"payable amount is: \",bill)\n",
        "else:\n",
        "  print(\"you have no offer\")\n",
        "\n"
      ],
      "metadata": {
        "colab": {
          "base_uri": "https://localhost:8080/"
        },
        "id": "s6gKGwuvxOcX",
        "outputId": "0ca9572a-d042-4764-8c59-41a28963bc04"
      },
      "execution_count": null,
      "outputs": [
        {
          "output_type": "stream",
          "name": "stdout",
          "text": [
            "type your bill amount :500\n",
            "you have no offer\n"
          ]
        }
      ]
    },
    {
      "cell_type": "code",
      "source": [
        "f=int(input(\"enter a number\"))\n",
        "if(f>0):\n",
        "  print(\"number is positive\")\n",
        "elif(f<0):\n",
        "  print(\"number is negative\")\n",
        "else:\n",
        "  print(\"number is 0\")"
      ],
      "metadata": {
        "colab": {
          "base_uri": "https://localhost:8080/"
        },
        "id": "cuOJCH_Y1SQv",
        "outputId": "2bca30b3-b18f-4e72-9904-aab7e1f788d0"
      },
      "execution_count": null,
      "outputs": [
        {
          "output_type": "stream",
          "name": "stdout",
          "text": [
            "enter a number-8\n",
            "number is negative\n"
          ]
        }
      ]
    },
    {
      "cell_type": "code",
      "source": [
        "a=int(input(\"enter a number\"))\n",
        "b=int(input(\"enter a number\"))\n",
        "c=input(\"ente a operator\")\n",
        "if(c==\"+\"):\n",
        "  print(\"answer is :\",a+b)\n",
        "elif(c==\"-\"):\n",
        "  print(\"answer is: \",a-b )\n",
        "elif(c==\"*\"):\n",
        "  print(\"answer is :\",a*b)\n",
        "elif(c==\"/\"):\n",
        "  print(\"answer is\",a/b)\n",
        "else:\n",
        "  print(\"wrong\")"
      ],
      "metadata": {
        "colab": {
          "base_uri": "https://localhost:8080/"
        },
        "id": "cjaQa8ef5mBR",
        "outputId": "73e21c40-8f6f-4f2d-f42e-1237cabc8a47"
      },
      "execution_count": null,
      "outputs": [
        {
          "output_type": "stream",
          "name": "stdout",
          "text": [
            "enter a number5\n",
            "enter a number6\n",
            "ente a operator;;\n",
            "wrong\n"
          ]
        }
      ]
    },
    {
      "cell_type": "code",
      "source": [
        "find the given year is leap year or not"
      ],
      "metadata": {
        "id": "0I0SVXAD6YrH"
      },
      "execution_count": null,
      "outputs": []
    },
    {
      "cell_type": "code",
      "source": [
        "y=int(input(\"enter a year\"))\n",
        "if(y%4==0):\n",
        "  print(\"it is a leap year\")\n",
        "else:\n",
        "  print(\"it is not a leap year\")"
      ],
      "metadata": {
        "id": "d7zObK32R7oc",
        "colab": {
          "base_uri": "https://localhost:8080/"
        },
        "outputId": "f030b228-f794-43cc-b5f7-15e0639286f2"
      },
      "execution_count": null,
      "outputs": [
        {
          "output_type": "stream",
          "name": "stdout",
          "text": [
            "enter a year2024\n",
            "it is a leap year\n"
          ]
        }
      ]
    },
    {
      "cell_type": "code",
      "source": [
        "s1=int(input(\"enter 5 grades\"))\n",
        "s2=int(input(\"enter 5 grades\"))\n",
        "s3=int(input(\"enter 5 grades\"))\n",
        "s4=int(input(\"enter 5 grades\"))\n",
        "s5=int(input(\"enter 5 grades\"))\n",
        "avg=(s1+s2+s3+s4+s5)/5\n",
        "if(avg>=100):\n",
        "  print(\"you have A+\")\n",
        "elif(avg>=90):\n",
        "  print(\"you have A\")\n",
        "elif(avg>=60):\n",
        "  print(\"you have B+\")\n",
        "elif(avg>=40):\n",
        "  pritn(\"you have B\")\n",
        "else:\n",
        "  print(\"you are failed\")"
      ],
      "metadata": {
        "colab": {
          "base_uri": "https://localhost:8080/"
        },
        "id": "61if9582Ts_r",
        "outputId": "1515cd47-f25e-4258-c58c-77b15b3ed604"
      },
      "execution_count": null,
      "outputs": [
        {
          "output_type": "stream",
          "name": "stdout",
          "text": [
            "enter 5 grades45\n",
            "enter 5 grades25\n",
            "enter 5 grades22\n",
            "enter 5 grades22\n",
            "enter 5 grades22\n",
            "you are failed\n"
          ]
        }
      ]
    },
    {
      "cell_type": "code",
      "source": [],
      "metadata": {
        "id": "R1ZRiTeFWuls"
      },
      "execution_count": null,
      "outputs": []
    }
  ]
}