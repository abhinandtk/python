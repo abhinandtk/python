{
  "cells": [
    {
      "cell_type": "markdown",
      "metadata": {
        "id": "view-in-github",
        "colab_type": "text"
      },
      "source": [
        "<a href=\"https://colab.research.google.com/github/abhinandtk/python_data_types/blob/main/loop.ipynb\" target=\"_parent\"><img src=\"https://colab.research.google.com/assets/colab-badge.svg\" alt=\"Open In Colab\"/></a>"
      ]
    },
    {
      "cell_type": "code",
      "execution_count": null,
      "metadata": {
        "id": "EazXmxgyaCFG"
      },
      "outputs": [],
      "source": [
        "for i in range(0,11):\n",
        "  print(\"\",i)"
      ]
    },
    {
      "cell_type": "markdown",
      "metadata": {
        "id": "JLTFsVxKaN4F"
      },
      "source": [
        "sum=0\n",
        "for i in range(0,11):\n",
        "  sum=sum+i\n",
        "print(\"sum of 0 to 10 is\",sum)"
      ]
    },
    {
      "cell_type": "code",
      "execution_count": null,
      "metadata": {
        "id": "fandlRvPlkPY"
      },
      "outputs": [],
      "source": [
        "fact=1\n",
        "n=int(input(\"enter a number\"))\n",
        "for i in range(1,n+1):\n",
        "  print(i)\n",
        "  fact=fact*i\n",
        "print(\"factorial of a given number is \",fact)"
      ]
    },
    {
      "cell_type": "code",
      "execution_count": null,
      "metadata": {
        "id": "RYKPKQ4Aqeok"
      },
      "outputs": [],
      "source": [
        "n=int(input(\"enter a number\"))\n",
        "for i in range(1,n+1):\n",
        " if(i%2!=0):\n",
        "  print(\"\",i)"
      ]
    },
    {
      "cell_type": "code",
      "execution_count": null,
      "metadata": {
        "id": "_OBwTcYYtRcz"
      },
      "outputs": [],
      "source": [
        "fac=1\n",
        "n=int(input(\"enter a number\"))\n",
        "for i in range(1,n+1):\n",
        "  fac=fac*i\n",
        "print(\"\",fac)\n",
        "\n"
      ]
    },
    {
      "cell_type": "code",
      "execution_count": null,
      "metadata": {
        "id": "nUHMiY4Pu6kb"
      },
      "outputs": [],
      "source": [
        "li=[1,2,3,4,5]"
      ]
    },
    {
      "cell_type": "code",
      "execution_count": null,
      "metadata": {
        "id": "uDBjMhJ3vC-h"
      },
      "outputs": [],
      "source": [
        "li1=[1,2,3,4,5]\n",
        "for i in li:\n",
        "  print(i)"
      ]
    },
    {
      "cell_type": "code",
      "execution_count": null,
      "metadata": {
        "id": "u0TD1JT4vrgl"
      },
      "outputs": [],
      "source": [
        "5\n",
        "n=int(input(\"enter the number:\"))\n",
        "s=int(input(\"enter your limit:\"))\n",
        "for i in range(1,n+1):\n",
        " sum=n*i\n",
        " print(i,\"*\",n,\"=\",sum)\n"
      ]
    },
    {
      "cell_type": "code",
      "execution_count": null,
      "metadata": {
        "id": "CEZy7DvgwZ6w"
      },
      "outputs": [],
      "source": [
        "s=0\n",
        "c=1\n",
        "f=int(input(\"enter the fibanocci number\"))\n",
        "print(s)\n",
        "print(c)\n",
        "for i in range(1,f):\n",
        "  g=s+c\n",
        "  print(g)\n",
        "  s=c\n",
        "  c=g\n",
        "\n",
        "\n",
        "\n"
      ]
    },
    {
      "cell_type": "code",
      "execution_count": null,
      "metadata": {
        "id": "ACOPD1L71TkO"
      },
      "outputs": [],
      "source": [
        "s=int(input(\"enter a number to reverse :\"))\n",
        "for i in range(s,0,-1):\n",
        "  print(i)"
      ]
    },
    {
      "cell_type": "code",
      "execution_count": null,
      "metadata": {
        "id": "MyEp66iZ5TPX"
      },
      "outputs": [],
      "source": [
        "for i in range(0,10,2):\n",
        "  print(i)"
      ]
    },
    {
      "cell_type": "code",
      "execution_count": null,
      "metadata": {
        "id": "rm51Ukov_yjD"
      },
      "outputs": [],
      "source": [
        "li=[]"
      ]
    },
    {
      "cell_type": "code",
      "execution_count": null,
      "metadata": {
        "id": "4rjgEBzLAYov"
      },
      "outputs": [],
      "source": [
        "li=[]\n",
        "l=int(input(\"enter the limit\"));\n",
        "for i in range(1,l+1):\n",
        "  n=int(input(\"enter the element\"))\n",
        "  li.append(n)\n",
        "print(li)\n",
        "sum=0\n",
        "for j in li:\n",
        "    sum=sum+j\n",
        "print(\"sum is: \",sum)"
      ]
    },
    {
      "cell_type": "code",
      "execution_count": null,
      "metadata": {
        "id": "ntlKFSe3hnzx"
      },
      "outputs": [],
      "source": [
        "122/10"
      ]
    },
    {
      "cell_type": "code",
      "execution_count": null,
      "metadata": {
        "id": "h6UhICU6l5lT"
      },
      "outputs": [],
      "source": [
        "122//10"
      ]
    },
    {
      "cell_type": "code",
      "execution_count": null,
      "metadata": {
        "id": "x89uaczjoKQR"
      },
      "outputs": [],
      "source": [
        "a=int(input(\"enter a number\"))\n",
        "sum=0\n",
        "temp=a\n",
        "while(temp>0):\n",
        "  b=temp%10\n",
        "  sum+=b**3\n",
        "  temp//=10\n",
        "if a == sum:\n",
        "   print(a,\"is an Armstrong number\")\n",
        "else:\n",
        "   print(a,\"is not an Armstrong number\")\n"
      ]
    },
    {
      "cell_type": "code",
      "execution_count": null,
      "metadata": {
        "id": "oIeG0rmwpv-i"
      },
      "outputs": [],
      "source": [
        "a=int(input(\"enter a number\"))\n",
        "c=str(a)\n",
        "d=len(c)\n",
        "sum=0\n",
        "temp=a\n",
        "for i in range(0,d):\n",
        "  b=temp%10\n",
        "  sum+=b**d\n",
        "  temp//=10\n",
        "if a == sum:\n",
        "   print(a,\"is an Armstrong number\")\n",
        "else:\n",
        "   print(a,\"is not an Armstrong number\")"
      ]
    },
    {
      "cell_type": "code",
      "execution_count": null,
      "metadata": {
        "id": "914EuZoq0foU",
        "colab": {
          "base_uri": "https://localhost:8080/"
        },
        "outputId": "5577a064-325e-4257-fd14-a2278f3c2b5b"
      },
      "outputs": [
        {
          "output_type": "stream",
          "name": "stdout",
          "text": [
            " system chooses stone,paper,scissor\n",
            "enter stone,paper,scissor :scissor\n",
            "system selected : stone\n",
            "user selected : scissor\n",
            "you loss\n"
          ]
        }
      ],
      "source": [
        "import random #printing a random value\n",
        "list=[\"stone\",\"paper\",\"scissor\"]\n",
        "x=random.choice(list)\n",
        "print(\" system chooses stone,paper,scissor\")\n",
        "user=input(\"enter stone,paper,scissor :\")\n",
        "print(\"system selected :\",x)\n",
        "print(\"user selected :\",user)\n",
        "if(x==user):\n",
        "  print(\"draw\")\n",
        "elif(x==\"paper\" and user==\"scissor\"):\n",
        "  print(\"you loss\")\n",
        "elif(x==\"paper\" and user==\"stone\"):\n",
        "  print(\"system win\")\n",
        "elif(x==\"stone\" and user==\"scissor\"):\n",
        "  print(\"you loss\")\n",
        "elif(x==\"stone\" and user==\"paper\"):\n",
        "  print(\"you win\")\n",
        "elif(x==\"scissor\" and user==\"paper\"):\n",
        "  print(\"you win\")\n",
        "elif(x==\"scissor\" and user==\"stone\"):\n",
        "  print(\"you win\")"
      ]
    },
    {
      "cell_type": "code",
      "execution_count": null,
      "metadata": {
        "colab": {
          "background_save": true,
          "base_uri": "https://localhost:8080/"
        },
        "id": "XaTUXGmm83sy",
        "outputId": "72934e1b-53ca-449a-ef0a-f3449179b771"
      },
      "outputs": [
        {
          "name": "stdout",
          "output_type": "stream",
          "text": [
            " system chooses stone,paper,scissor\n",
            "system selected : scissor\n",
            "user selected : 123\n",
            "system selected : scissor\n",
            "user selected : 234\n",
            "system selected : scissor\n",
            "user selected : 456\n"
          ]
        }
      ],
      "source": [
        "import random #printing a random value\n",
        "list=[\"stone\",\"paper\",\"scissor\"]\n",
        "x=random.choice(list)\n",
        "print(\" system chooses stone,paper,scissor\")\n",
        "i=1\n",
        "while True:\n",
        "\n",
        " user=input(\"enter stone,paper,scissor :\")\n",
        " print(\"system selected :\",x)\n",
        " print(\"user selected :\",user)\n",
        " if(x==user):\n",
        "    print(\"draw\")\n",
        " elif(x==\"paper\" and user==\"scissor\"):\n",
        "    print(\"you loss\")\n",
        " elif(x==\"paper\" and user==\"stone\"):\n",
        "    print(\"system win\")\n",
        " elif(x==\"stone\" and user==\"scissor\"):\n",
        "    print(\"you loss\")\n",
        " elif(x==\"stone\" and user==\"paper\"):\n",
        "    print(\"you win\")\n",
        " elif(x==\"scissor\" and user==\"paper\"):\n",
        "    print(\"you win\")\n",
        " elif(x==\"scissor\" and user==\"stone\"):\n",
        "    print(\"you win\")\n",
        "\n"
      ]
    },
    {
      "cell_type": "code",
      "execution_count": null,
      "metadata": {
        "colab": {
          "base_uri": "https://localhost:8080/"
        },
        "id": "d-8PldE12lGz",
        "outputId": "17d556bd-c51d-4af7-b500-3715ba0e8057"
      },
      "outputs": [
        {
          "name": "stdout",
          "output_type": "stream",
          "text": [
            "enter a number153\n",
            "1\n",
            "5\n",
            "3\n",
            "153\n",
            "armstrong number\n"
          ]
        }
      ],
      "source": [
        "x=input(\"enter a number\")\n",
        "temp=int(x)\n",
        "d=len(x)                  #armstrong number\n",
        "sum=0\n",
        "for i in x:\n",
        "  print(i)\n",
        "  sum=sum+(int(i)**d)\n",
        "print(sum)\n",
        "if(temp==sum):\n",
        "  print(\"armstrong number\")\n",
        "\n",
        "else:\n",
        "  print(\" not armstrong number\")"
      ]
    },
    {
      "cell_type": "code",
      "execution_count": null,
      "metadata": {
        "id": "GZ6OXwzQFnNT"
      },
      "outputs": [],
      "source": []
    }
  ],
  "metadata": {
    "colab": {
      "provenance": [],
      "authorship_tag": "ABX9TyOeXbRcHNEj1UzGC3NSH8CW",
      "include_colab_link": true
    },
    "kernelspec": {
      "display_name": "Python 3",
      "name": "python3"
    },
    "language_info": {
      "name": "python"
    }
  },
  "nbformat": 4,
  "nbformat_minor": 0
}