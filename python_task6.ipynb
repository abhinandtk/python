{
  "nbformat": 4,
  "nbformat_minor": 0,
  "metadata": {
    "colab": {
      "provenance": [],
      "authorship_tag": "ABX9TyOlq7klq9P448kZ8S1rpMnn",
      "include_colab_link": true
    },
    "kernelspec": {
      "name": "python3",
      "display_name": "Python 3"
    },
    "language_info": {
      "name": "python"
    }
  },
  "cells": [
    {
      "cell_type": "markdown",
      "metadata": {
        "id": "view-in-github",
        "colab_type": "text"
      },
      "source": [
        "<a href=\"https://colab.research.google.com/github/abhinandtk/python_data_types/blob/main/python_task6.ipynb\" target=\"_parent\"><img src=\"https://colab.research.google.com/assets/colab-badge.svg\" alt=\"Open In Colab\"/></a>"
      ]
    },
    {
      "cell_type": "code",
      "source": [
        "for i in range(0,10):\n",
        "  for j in range(0,i+1):\n",
        "    print(\"*\",end=' ')\n",
        "  print()"
      ],
      "metadata": {
        "colab": {
          "base_uri": "https://localhost:8080/"
        },
        "id": "jQcsUBuQMsIb",
        "outputId": "2684b3c8-b455-41f4-f95c-f20e1b15d4b0"
      },
      "execution_count": null,
      "outputs": [
        {
          "output_type": "stream",
          "name": "stdout",
          "text": [
            "* \n",
            "* * \n",
            "* * * \n",
            "* * * * \n",
            "* * * * * \n",
            "* * * * * * \n",
            "* * * * * * * \n",
            "* * * * * * * * \n",
            "* * * * * * * * * \n",
            "* * * * * * * * * * \n"
          ]
        }
      ]
    },
    {
      "cell_type": "code",
      "source": [
        "for i in range(10,0,-1):\n",
        "  for j in range(10,i-1,-1):\n",
        "    print(\" \",end=' ')\n",
        "  for k in range(0,i-1):\n",
        "    print(\"*\",end=' ')\n",
        "  print()"
      ],
      "metadata": {
        "colab": {
          "base_uri": "https://localhost:8080/"
        },
        "id": "njvuKBRyLecM",
        "outputId": "7e38fc2d-ae37-4063-8352-2516793a553e"
      },
      "execution_count": null,
      "outputs": [
        {
          "output_type": "stream",
          "name": "stdout",
          "text": [
            "  * * * * * * * * * \n",
            "    * * * * * * * * \n",
            "      * * * * * * * \n",
            "        * * * * * * \n",
            "          * * * * * \n",
            "            * * * * \n",
            "              * * * \n",
            "                * * \n",
            "                  * \n",
            "                    \n"
          ]
        }
      ]
    },
    {
      "cell_type": "code",
      "source": [
        "for i in range(0,10):\n",
        "  for j in range(0,10-i):\n",
        "    print(\" \",end=' ')\n",
        "  for k in range(0,i+1):\n",
        "    print(\"*\",end=' ')\n",
        "  print()"
      ],
      "metadata": {
        "colab": {
          "base_uri": "https://localhost:8080/"
        },
        "id": "R32n49OjS-Z8",
        "outputId": "2d3deaf7-dd84-4b61-843b-33ec512d98d3"
      },
      "execution_count": null,
      "outputs": [
        {
          "output_type": "stream",
          "name": "stdout",
          "text": [
            "                    * \n",
            "                  * * \n",
            "                * * * \n",
            "              * * * * \n",
            "            * * * * * \n",
            "          * * * * * * \n",
            "        * * * * * * * \n",
            "      * * * * * * * * \n",
            "    * * * * * * * * * \n",
            "  * * * * * * * * * * \n"
          ]
        }
      ]
    },
    {
      "cell_type": "code",
      "source": [
        "for i in range(10,0,-1):\n",
        "  for j in range(0,i-1):\n",
        "   print(\"*\",end=' ')\n",
        "  print()"
      ],
      "metadata": {
        "colab": {
          "base_uri": "https://localhost:8080/"
        },
        "id": "mlZ9jxhgf_qp",
        "outputId": "67992e54-eb3e-4dac-dbf8-64d4a1933520"
      },
      "execution_count": null,
      "outputs": [
        {
          "output_type": "stream",
          "name": "stdout",
          "text": [
            "* * * * * * * * * \n",
            "* * * * * * * * \n",
            "* * * * * * * \n",
            "* * * * * * \n",
            "* * * * * \n",
            "* * * * \n",
            "* * * \n",
            "* * \n",
            "* \n",
            "\n"
          ]
        }
      ]
    },
    {
      "cell_type": "code",
      "source": [
        "print(\"                   *\")\n",
        "for i in range(10,0,-1):\n",
        "  for j in range(0,i-1):\n",
        "    print(\" \",end=' ')\n",
        "  for k in range(10,i-1,-1):\n",
        "    print(\"*\",end=' ')\n",
        "  for l in range(10,i-1,-1):\n",
        "    print(\"*\",end=' ')\n",
        "  for m in range(0,i-1):\n",
        "    print(\" \",end=' ')\n",
        "  print()"
      ],
      "metadata": {
        "colab": {
          "base_uri": "https://localhost:8080/"
        },
        "id": "4oJclYTReupW",
        "outputId": "c564dce4-27e4-4bce-c3d6-2c7b910aeb09"
      },
      "execution_count": null,
      "outputs": [
        {
          "output_type": "stream",
          "name": "stdout",
          "text": [
            "                   *\n",
            "                  * *                   \n",
            "                * * * *                 \n",
            "              * * * * * *               \n",
            "            * * * * * * * *             \n",
            "          * * * * * * * * * *           \n",
            "        * * * * * * * * * * * *         \n",
            "      * * * * * * * * * * * * * *       \n",
            "    * * * * * * * * * * * * * * * *     \n",
            "  * * * * * * * * * * * * * * * * * *   \n",
            "* * * * * * * * * * * * * * * * * * * * \n"
          ]
        }
      ]
    },
    {
      "cell_type": "code",
      "source": [
        "for i in range(10,0,-1):\n",
        "  for j in range(10,i-1,-1):\n",
        "    print(\" \",end=' ')\n",
        "  for k in range(0,i-1):\n",
        "    print(\"*\",end=' ')\n",
        "  for l in range(0,i-1):\n",
        "    print(\"*\",end=' ')\n",
        "  for m in range(10,i-1,-1):\n",
        "    print(\" \",end=' ')\n",
        "  print ()"
      ],
      "metadata": {
        "colab": {
          "base_uri": "https://localhost:8080/"
        },
        "id": "oh7GIu8rexgy",
        "outputId": "0c9abe3a-d28c-4cd1-b724-150754f97874"
      },
      "execution_count": null,
      "outputs": [
        {
          "output_type": "stream",
          "name": "stdout",
          "text": [
            "  * * * * * * * * * * * * * * * * * *   \n",
            "    * * * * * * * * * * * * * * * *     \n",
            "      * * * * * * * * * * * * * *       \n",
            "        * * * * * * * * * * * *         \n",
            "          * * * * * * * * * *           \n",
            "            * * * * * * * *             \n",
            "              * * * * * *               \n",
            "                * * * *                 \n",
            "                  * *                   \n",
            "                                        \n"
          ]
        }
      ]
    },
    {
      "cell_type": "code",
      "source": [
        "for i in range(10,0,-1):\n",
        "  for j in range(0,i-1):\n",
        "    print(\" \",end=' ')\n",
        "  for k in range(10,i-1,-1):\n",
        "    print(\"*\",end=' ')\n",
        "  for l in range(10,i-1,-1):\n",
        "    print(\"*\",end=' ')\n",
        "  for m in range(0,i-1):\n",
        "    print(\" \",end=' ')\n",
        "  for n in range(0,i-1):\n",
        "    print(\" \",end=' ')\n",
        "  for o in range(10,i-1,-1):\n",
        "    print(\"*\",end=' ')\n",
        "  for p in range(10,i-1,-1):\n",
        "    print(\"*\",end=' ')\n",
        "  for q in range(0,i-1):\n",
        "    print(\" \",end=' ')\n",
        "  print ()\n",
        "\n"
      ],
      "metadata": {
        "colab": {
          "base_uri": "https://localhost:8080/"
        },
        "id": "jNDkyEQLgdOJ",
        "outputId": "116e531b-4443-4d61-9885-b18a19a5871a"
      },
      "execution_count": null,
      "outputs": [
        {
          "output_type": "stream",
          "name": "stdout",
          "text": [
            "                  * *                                     * *                   \n",
            "                * * * *                                 * * * *                 \n",
            "              * * * * * *                             * * * * * *               \n",
            "            * * * * * * * *                         * * * * * * * *             \n",
            "          * * * * * * * * * *                     * * * * * * * * * *           \n",
            "        * * * * * * * * * * * *                 * * * * * * * * * * * *         \n",
            "      * * * * * * * * * * * * * *             * * * * * * * * * * * * * *       \n",
            "    * * * * * * * * * * * * * * * *         * * * * * * * * * * * * * * * *     \n",
            "  * * * * * * * * * * * * * * * * * *     * * * * * * * * * * * * * * * * * *   \n",
            "* * * * * * * * * * * * * * * * * * * * * * * * * * * * * * * * * * * * * * * * \n"
          ]
        }
      ]
    },
    {
      "cell_type": "code",
      "source": [
        "for i in range(10,0,-1):\n",
        "  for j in range(0,i-1):\n",
        "    print(\" \",end=' ')\n",
        "  for k in range(10,i-1,-1):\n",
        "    print(\"*\",end=' ')\n",
        "  for l in range(10,i-1,-1):\n",
        "    print(\"*\",end=' ')\n",
        "  for m in range(0,i-1):\n",
        "    print(\" \",end=' ')\n",
        "  print()\n",
        "for i in range(10,i-1,-1):\n",
        "  for j in range(10,i-1,-1):\n",
        "    print(\" \",end=' ')\n",
        "  for k in range(0,i-1):\n",
        "    print(\"*\",end=' ')\n",
        "  for l in range(0,i-1):\n",
        "    print(\"*\",end=' ')\n",
        "  for m in range(10,i-1,-1):\n",
        "    print(\" \",end=' ')\n",
        "  print ()"
      ],
      "metadata": {
        "id": "4wetijhajup3",
        "outputId": "83184591-203f-444e-d9bf-0b3319a7f6d5",
        "colab": {
          "base_uri": "https://localhost:8080/"
        }
      },
      "execution_count": null,
      "outputs": [
        {
          "output_type": "stream",
          "name": "stdout",
          "text": [
            "                  * *                   \n",
            "                * * * *                 \n",
            "              * * * * * *               \n",
            "            * * * * * * * *             \n",
            "          * * * * * * * * * *           \n",
            "        * * * * * * * * * * * *         \n",
            "      * * * * * * * * * * * * * *       \n",
            "    * * * * * * * * * * * * * * * *     \n",
            "  * * * * * * * * * * * * * * * * * *   \n",
            "* * * * * * * * * * * * * * * * * * * * \n",
            "  * * * * * * * * * * * * * * * * * *   \n",
            "    * * * * * * * * * * * * * * * *     \n",
            "      * * * * * * * * * * * * * *       \n",
            "        * * * * * * * * * * * *         \n",
            "          * * * * * * * * * *           \n",
            "            * * * * * * * *             \n",
            "              * * * * * *               \n",
            "                * * * *                 \n",
            "                  * *                   \n",
            "                                        \n"
          ]
        }
      ]
    },
    {
      "cell_type": "code",
      "source": [
        "for i in range(0,10):\n",
        "  for j in range(0,10):\n",
        "   print(\"#\",end=' ')\n",
        "  print()"
      ],
      "metadata": {
        "colab": {
          "base_uri": "https://localhost:8080/"
        },
        "id": "Zrp7TuFnidb5",
        "outputId": "d310e180-0078-41e9-bf71-8a62304f59fd"
      },
      "execution_count": null,
      "outputs": [
        {
          "output_type": "stream",
          "name": "stdout",
          "text": [
            "# # # # # # # # # # \n",
            "# # # # # # # # # # \n",
            "# # # # # # # # # # \n",
            "# # # # # # # # # # \n",
            "# # # # # # # # # # \n",
            "# # # # # # # # # # \n",
            "# # # # # # # # # # \n",
            "# # # # # # # # # # \n",
            "# # # # # # # # # # \n",
            "# # # # # # # # # # \n"
          ]
        }
      ]
    },
    {
      "cell_type": "code",
      "source": [
        "for i in range(0,10):\n",
        "  for j in range(0,10):\n",
        "   print(\"$\",end=' ')\n",
        "  print()"
      ],
      "metadata": {
        "colab": {
          "base_uri": "https://localhost:8080/"
        },
        "id": "K9nm33BrjWON",
        "outputId": "198422ab-f4db-42c9-c389-78d0f9279570"
      },
      "execution_count": null,
      "outputs": [
        {
          "output_type": "stream",
          "name": "stdout",
          "text": [
            "$ $ $ $ $ $ $ $ $ $ \n",
            "$ $ $ $ $ $ $ $ $ $ \n",
            "$ $ $ $ $ $ $ $ $ $ \n",
            "$ $ $ $ $ $ $ $ $ $ \n",
            "$ $ $ $ $ $ $ $ $ $ \n",
            "$ $ $ $ $ $ $ $ $ $ \n",
            "$ $ $ $ $ $ $ $ $ $ \n",
            "$ $ $ $ $ $ $ $ $ $ \n",
            "$ $ $ $ $ $ $ $ $ $ \n",
            "$ $ $ $ $ $ $ $ $ $ \n"
          ]
        }
      ]
    },
    {
      "cell_type": "code",
      "source": [
        "for i in range(0,10):\n",
        "  for j in range(0,10):\n",
        "   print(\"&\",end=' ')\n",
        "  print()"
      ],
      "metadata": {
        "colab": {
          "base_uri": "https://localhost:8080/"
        },
        "id": "QiUzcFrbjcqp",
        "outputId": "66f17bea-eecb-45ca-c9d5-2a356d6e15d1"
      },
      "execution_count": null,
      "outputs": [
        {
          "output_type": "stream",
          "name": "stdout",
          "text": [
            "& & & & & & & & & & \n",
            "& & & & & & & & & & \n",
            "& & & & & & & & & & \n",
            "& & & & & & & & & & \n",
            "& & & & & & & & & & \n",
            "& & & & & & & & & & \n",
            "& & & & & & & & & & \n",
            "& & & & & & & & & & \n",
            "& & & & & & & & & & \n",
            "& & & & & & & & & & \n"
          ]
        }
      ]
    },
    {
      "cell_type": "code",
      "source": [
        "for i in range(1, 11, 2):\n",
        "        print(\" \" * ((11 - i) // 2), end=\"\")\n",
        "        print(\"*\" * i)"
      ],
      "metadata": {
        "id": "vYePMYSQjhrR",
        "colab": {
          "base_uri": "https://localhost:8080/"
        },
        "outputId": "bfaf9bc6-7e44-4a9b-c7e4-642e0a9f6700"
      },
      "execution_count": null,
      "outputs": [
        {
          "output_type": "stream",
          "name": "stdout",
          "text": [
            "     *\n",
            "    ***\n",
            "   *****\n",
            "  *******\n",
            " *********\n"
          ]
        }
      ]
    },
    {
      "cell_type": "code",
      "source": [
        "a=int(input(\"enter number of rows\"))\n",
        "n=a*2\n",
        "for i in range(1, n, 2):\n",
        "        print(\" \" * ((n - i) // 2), end=\"\")\n",
        "        print(\"*\" * i)"
      ],
      "metadata": {
        "colab": {
          "base_uri": "https://localhost:8080/"
        },
        "id": "V-KYeG5lOjlz",
        "outputId": "075e17ba-f591-48e3-84a2-a016190c97f6"
      },
      "execution_count": null,
      "outputs": [
        {
          "output_type": "stream",
          "name": "stdout",
          "text": [
            "enter number of rows3\n",
            "  *\n",
            " ***\n",
            "*****\n"
          ]
        }
      ]
    },
    {
      "cell_type": "code",
      "source": [
        "n=int(input(\"enter number of rows:\"))\n",
        "for i in range(0,n):\n",
        "  print(\" \"*(n-i)+\"*\"*((i*2)+1))"
      ],
      "metadata": {
        "colab": {
          "base_uri": "https://localhost:8080/"
        },
        "id": "6fSVH1cRQglV",
        "outputId": "5bb30d32-81fb-4b30-a6ae-40d0a4363911"
      },
      "execution_count": null,
      "outputs": [
        {
          "output_type": "stream",
          "name": "stdout",
          "text": [
            "enter number of rows:8\n",
            "        *\n",
            "       ***\n",
            "      *****\n",
            "     *******\n",
            "    *********\n",
            "   ***********\n",
            "  *************\n",
            " ***************\n"
          ]
        }
      ]
    },
    {
      "cell_type": "code",
      "source": [
        "n=int(input(\"enter number of rows:\"))\n",
        "for i in range(n,-1,-1):\n",
        "  print(\" \"*(n-i)+\"*\"*(1+2*i))"
      ],
      "metadata": {
        "colab": {
          "base_uri": "https://localhost:8080/"
        },
        "id": "27dMI1vJWnM8",
        "outputId": "12356b8f-50d4-4288-91df-3c7f5f393f1e"
      },
      "execution_count": null,
      "outputs": [
        {
          "output_type": "stream",
          "name": "stdout",
          "text": [
            "enter number of rows:6\n",
            "*************\n",
            " ***********\n",
            "  *********\n",
            "   *******\n",
            "    *****\n",
            "     ***\n",
            "      *\n"
          ]
        }
      ]
    },
    {
      "cell_type": "code",
      "source": [
        "a=int(input(\"enter number of rows:\"))\n",
        "n=a//2\n",
        "for i in range(0,n):\n",
        "  print(\" \"*(n-i)+\"*\"*(1+2*i))\n",
        "for i in range(n,-1,-1):\n",
        "  print(\" \"*(n-i)+\"*\"*(1+2*i))"
      ],
      "metadata": {
        "colab": {
          "base_uri": "https://localhost:8080/"
        },
        "id": "mD5w3YSGXYYs",
        "outputId": "73ee2e1a-ae6f-4be1-f2dc-d27bc8db4941"
      },
      "execution_count": null,
      "outputs": [
        {
          "output_type": "stream",
          "name": "stdout",
          "text": [
            "enter number of rows:6\n",
            "   *\n",
            "  ***\n",
            " *****\n",
            "*******\n",
            " *****\n",
            "  ***\n",
            "   *\n"
          ]
        }
      ]
    },
    {
      "cell_type": "code",
      "source": [
        "for i in range(0,10):\n",
        "  print(\"*\"*(i))"
      ],
      "metadata": {
        "colab": {
          "base_uri": "https://localhost:8080/"
        },
        "id": "Bw9HtMdGX4jf",
        "outputId": "7d5880c5-e4b0-439e-e3be-66f80966a4ff"
      },
      "execution_count": null,
      "outputs": [
        {
          "output_type": "stream",
          "name": "stdout",
          "text": [
            "\n",
            "*\n",
            "**\n",
            "***\n",
            "****\n",
            "*****\n",
            "******\n",
            "*******\n",
            "********\n",
            "*********\n"
          ]
        }
      ]
    },
    {
      "cell_type": "code",
      "source": [
        "for i in range(0,10):\n",
        "  print(\" \"*(i)+\"*\"*(10-i))"
      ],
      "metadata": {
        "colab": {
          "base_uri": "https://localhost:8080/"
        },
        "id": "AGXC3ztBchtL",
        "outputId": "21d2e138-e07e-4080-b52f-85669e97d05b"
      },
      "execution_count": null,
      "outputs": [
        {
          "output_type": "stream",
          "name": "stdout",
          "text": [
            "**********\n",
            " *********\n",
            "  ********\n",
            "   *******\n",
            "    ******\n",
            "     *****\n",
            "      ****\n",
            "       ***\n",
            "        **\n",
            "         *\n"
          ]
        }
      ]
    },
    {
      "cell_type": "code",
      "source": [
        "for i in range(0,10):\n",
        "  print(\"*\"*(10-i)+\" \"*(i))"
      ],
      "metadata": {
        "colab": {
          "base_uri": "https://localhost:8080/"
        },
        "id": "Pp7lXsZKaJ56",
        "outputId": "c05df5cb-0857-48b0-f5f9-0a96c69b5b10"
      },
      "execution_count": null,
      "outputs": [
        {
          "output_type": "stream",
          "name": "stdout",
          "text": [
            "**********\n",
            "********* \n",
            "********  \n",
            "*******   \n",
            "******    \n",
            "*****     \n",
            "****      \n",
            "***       \n",
            "**        \n",
            "*         \n"
          ]
        }
      ]
    },
    {
      "cell_type": "code",
      "source": [
        "for i in range(0,10):\n",
        "  print(\" \"*(10-i)+\"*\"*(i))"
      ],
      "metadata": {
        "colab": {
          "base_uri": "https://localhost:8080/"
        },
        "id": "ZBdMVBBqb653",
        "outputId": "9a6af0ff-1b87-4646-8a64-23a3e127051c"
      },
      "execution_count": null,
      "outputs": [
        {
          "output_type": "stream",
          "name": "stdout",
          "text": [
            "          \n",
            "         *\n",
            "        **\n",
            "       ***\n",
            "      ****\n",
            "     *****\n",
            "    ******\n",
            "   *******\n",
            "  ********\n",
            " *********\n"
          ]
        }
      ]
    },
    {
      "cell_type": "code",
      "source": [
        "n=int(input(\"enter number of rows:\"))\n",
        "for i in range(n,-1,-1):\n",
        "  print(\" \"*(n-i)+\"*\"*(1+2*i)+\"  \"*(n-i)+\"*\"*(1+2*i))"
      ],
      "metadata": {
        "colab": {
          "base_uri": "https://localhost:8080/"
        },
        "id": "5Q-rtrIXcYjc",
        "outputId": "bdf7dd9b-727f-49c1-9bd3-11739c4e30d9"
      },
      "execution_count": null,
      "outputs": [
        {
          "output_type": "stream",
          "name": "stdout",
          "text": [
            "enter number of rows:6\n",
            "**************************\n",
            " ***********  ***********\n",
            "  *********    *********\n",
            "   *******      *******\n",
            "    *****        *****\n",
            "     ***          ***\n",
            "      *            *\n"
          ]
        }
      ]
    },
    {
      "cell_type": "code",
      "source": [
        "n=int(input(\"enter number of rows:\"))\n",
        "for i in range(0,n+1):\n",
        "  print(\" \"*(n-i)+\"*\"*(1+2*i)+\"  \"*(n-i)+\"*\"*(1+2*i))"
      ],
      "metadata": {
        "colab": {
          "base_uri": "https://localhost:8080/"
        },
        "id": "FRyHDM8OdnjY",
        "outputId": "49bf1f3b-2cf6-40eb-f1c9-7b5bd34698a6"
      },
      "execution_count": null,
      "outputs": [
        {
          "output_type": "stream",
          "name": "stdout",
          "text": [
            "enter number of rows:6\n",
            "      *            *\n",
            "     ***          ***\n",
            "    *****        *****\n",
            "   *******      *******\n",
            "  *********    *********\n",
            " ***********  ***********\n",
            "**************************\n"
          ]
        }
      ]
    },
    {
      "cell_type": "code",
      "source": [
        "n=int(input(\"enter number of rows:\"))\n",
        "for i in range(n,-1,-1):\n",
        "  print(\" \"*(n-i)+\"*\"*(1)+\"  \"*(i)+\"*\"*(1))\n",
        "for i in range(0,n+1):\n",
        "  print(\" \"*(n-i)+\"*\"*(1)+\"  \"*(i)+\"*\"*(1))"
      ],
      "metadata": {
        "colab": {
          "base_uri": "https://localhost:8080/"
        },
        "id": "WwwQoUAYli72",
        "outputId": "e8851891-fd45-4e60-facc-2033544ee355"
      },
      "execution_count": null,
      "outputs": [
        {
          "output_type": "stream",
          "name": "stdout",
          "text": [
            "enter number of rows:6\n",
            "*            *\n",
            " *          *\n",
            "  *        *\n",
            "   *      *\n",
            "    *    *\n",
            "     *  *\n",
            "      **\n",
            "      **\n",
            "     *  *\n",
            "    *    *\n",
            "   *      *\n",
            "  *        *\n",
            " *          *\n",
            "*            *\n"
          ]
        }
      ]
    },
    {
      "cell_type": "code",
      "source": [
        "n=int(input(\"enter number of rows:\"))\n",
        "for i in range(0,n):\n",
        "  print(\" \"*i+(\"*\"*1)+\"  \"*(n-i)+\"*\"*1)\n",
        "for i in range(0,n):\n",
        " print(\" \"*(n-i)+\"*\"*1+\"  \"*i+(\"*\"*1))"
      ],
      "metadata": {
        "colab": {
          "base_uri": "https://localhost:8080/"
        },
        "id": "n-s8GOmRoQtq",
        "outputId": "189f11e4-baf4-4e5f-a639-47fb25048ec7"
      },
      "execution_count": null,
      "outputs": [
        {
          "output_type": "stream",
          "name": "stdout",
          "text": [
            "enter number of rows:6\n",
            "*            *\n",
            " *          *\n",
            "  *        *\n",
            "   *      *\n",
            "    *    *\n",
            "     *  *\n",
            "      **\n",
            "     *  *\n",
            "    *    *\n",
            "   *      *\n",
            "  *        *\n",
            " *          *\n"
          ]
        }
      ]
    },
    {
      "cell_type": "code",
      "source": [
        "for i in range(1,10):\n",
        "  print(\"*\"*(10-i)+\" \"*(i)+\" \"*(i)+\"*\"*(10-i))\n",
        "for i in range(1,10):\n",
        "  print(\"*\"*(i)+\" \"*(10-i)+\" \"*(10-i)+\"*\"*(i))\n"
      ],
      "metadata": {
        "colab": {
          "base_uri": "https://localhost:8080/"
        },
        "id": "VeePsj6LfUOP",
        "outputId": "3f762dbf-34ac-473a-9aa6-7348a68388d0"
      },
      "execution_count": null,
      "outputs": [
        {
          "output_type": "stream",
          "name": "stdout",
          "text": [
            "*********  *********\n",
            "********    ********\n",
            "*******      *******\n",
            "******        ******\n",
            "*****          *****\n",
            "****            ****\n",
            "***              ***\n",
            "**                **\n",
            "*                  *\n",
            "*                  *\n",
            "**                **\n",
            "***              ***\n",
            "****            ****\n",
            "*****          *****\n",
            "******        ******\n",
            "*******      *******\n",
            "********    ********\n",
            "*********  *********\n"
          ]
        }
      ]
    },
    {
      "cell_type": "code",
      "source": [
        "n=int(input(\"enter a number\"))\n",
        "for i in range(0,n):\n",
        "  print(\"*\")\n",
        "for i in range(0,n):\n",
        "  print(\"*\",end=' ')"
      ],
      "metadata": {
        "colab": {
          "base_uri": "https://localhost:8080/"
        },
        "id": "OyZjZMPaiwp7",
        "outputId": "1116e6e9-a320-45b5-a917-8277ce633f9c"
      },
      "execution_count": null,
      "outputs": [
        {
          "output_type": "stream",
          "name": "stdout",
          "text": [
            "enter a number10\n",
            "*\n",
            "*\n",
            "*\n",
            "*\n",
            "*\n",
            "*\n",
            "*\n",
            "*\n",
            "*\n",
            "*\n",
            "* * * * * * * * * * "
          ]
        }
      ]
    },
    {
      "cell_type": "code",
      "source": [
        "n=int(input(\"enter a number\"))\n",
        "for i in range(0,n):\n",
        " print(\"*\",end=' ')\n",
        "for i in range(0,n):\n",
        " print(\"*\",end=' ')\n",
        "print()\n",
        "for i in range(0,n):\n",
        "  print(\" \"*((n*2)-2)+\"*\")"
      ],
      "metadata": {
        "colab": {
          "base_uri": "https://localhost:8080/"
        },
        "id": "BaqJjHH2v2UI",
        "outputId": "2e267e56-a1cd-4e36-e983-65cf24d577a4"
      },
      "execution_count": null,
      "outputs": [
        {
          "output_type": "stream",
          "name": "stdout",
          "text": [
            "enter a number8\n",
            "* * * * * * * * * * * * * * * * \n",
            "              *\n",
            "              *\n",
            "              *\n",
            "              *\n",
            "              *\n",
            "              *\n",
            "              *\n",
            "              *\n"
          ]
        }
      ]
    },
    {
      "cell_type": "code",
      "source": [
        "n=7\n",
        "for i in range(0,n):\n",
        "  print(\" \"*(2*n-i)+\" *\"*1+\"  \"*i+\" *\"*1)\n",
        "for i in range(0,1):\n",
        "  print(\" \"*(n+1)+\"* \"*(n+2))\n",
        "for i in range(0,n):\n",
        "  print(\" \"*(7-i)+\"*\"+\"  \"*(i+n+2)+\"*\"*1)\n"
      ],
      "metadata": {
        "colab": {
          "base_uri": "https://localhost:8080/"
        },
        "id": "S3PgmZMbwfqg",
        "outputId": "d7987dc7-a255-4352-87b2-5162a870a965"
      },
      "execution_count": null,
      "outputs": [
        {
          "output_type": "stream",
          "name": "stdout",
          "text": [
            "               * *\n",
            "              *   *\n",
            "             *     *\n",
            "            *       *\n",
            "           *         *\n",
            "          *           *\n",
            "         *             *\n",
            "        * * * * * * * * * \n",
            "       *                  *\n",
            "      *                    *\n",
            "     *                      *\n",
            "    *                        *\n",
            "   *                          *\n",
            "  *                            *\n",
            " *                              *\n"
          ]
        }
      ]
    },
    {
      "cell_type": "code",
      "source": [
        "for i in range(0,1):\n",
        " print(\"* \"*7,end=' ')\n",
        "print()\n",
        "for i in range(0,5):\n",
        "  print(\"* \"+\" \"*10+\"*\")\n",
        "for i in range(0,1):\n",
        " print(\"* \"*7,end=' ')\n",
        "print()\n",
        "for i in range(0,5):\n",
        "  print(\"* \"+\" \"*10+\"*\")\n",
        "for i in range(0,1):\n",
        " print(\"* \"*7,end=' ')"
      ],
      "metadata": {
        "id": "lXsKNN9exPe0",
        "colab": {
          "base_uri": "https://localhost:8080/"
        },
        "outputId": "1d570f98-70f1-45ec-8e1c-533cd45e814f"
      },
      "execution_count": null,
      "outputs": [
        {
          "output_type": "stream",
          "name": "stdout",
          "text": [
            "* * * * * * *  \n",
            "*           *\n",
            "*           *\n",
            "*           *\n",
            "*           *\n",
            "*           *\n",
            "* * * * * * *  \n",
            "*           *\n",
            "*           *\n",
            "*           *\n",
            "*           *\n",
            "*           *\n",
            "* * * * * * *  "
          ]
        }
      ]
    },
    {
      "cell_type": "code",
      "source": [
        "for i in range(0,1):\n",
        " print(\"* \"*8,end=' ')\n",
        "print()\n",
        "for i in range(0,8):\n",
        "  print(\"* \")\n",
        "for i in range(0,1):\n",
        " print(\"* \"*8,end=' ')"
      ],
      "metadata": {
        "colab": {
          "base_uri": "https://localhost:8080/"
        },
        "id": "iENJsNzI0H0b",
        "outputId": "c86d3bb3-7213-452f-a855-6a9f93e66e0a"
      },
      "execution_count": null,
      "outputs": [
        {
          "output_type": "stream",
          "name": "stdout",
          "text": [
            "* * * * * * * *  \n",
            "* \n",
            "* \n",
            "* \n",
            "* \n",
            "* \n",
            "* \n",
            "* \n",
            "* \n",
            "* * * * * * * *  "
          ]
        }
      ]
    },
    {
      "cell_type": "code",
      "source": [
        "for i in range(0,1):\n",
        " print(\"* \"*9,end=' ')\n",
        "print()\n",
        "for i in range(0,8):\n",
        "  print(\"* \"+\" \"*14+\"*\")\n",
        "for i in range(0,1):\n",
        " print(\"* \"*9,end=' ')"
      ],
      "metadata": {
        "colab": {
          "base_uri": "https://localhost:8080/"
        },
        "id": "Cye2tCem3AwW",
        "outputId": "415ba394-f997-495b-d5ac-de5943ab78aa"
      },
      "execution_count": null,
      "outputs": [
        {
          "output_type": "stream",
          "name": "stdout",
          "text": [
            "* * * * * * * * *  \n",
            "*               *\n",
            "*               *\n",
            "*               *\n",
            "*               *\n",
            "*               *\n",
            "*               *\n",
            "*               *\n",
            "*               *\n",
            "* * * * * * * * *  "
          ]
        }
      ]
    },
    {
      "cell_type": "code",
      "source": [
        "for i in range(0,1):\n",
        " print(\"* \"*8,end=' ')\n",
        "print()\n",
        "for i in range(0,8):\n",
        "  print(\"* \")\n",
        "for i in range(0,1):\n",
        " print(\"* \"*8,end=' ')\n",
        "print()\n",
        "for i in range(0,8):\n",
        "  print(\"* \")\n",
        "for i in range(0,1):\n",
        " print(\"* \"*8,end=' ')"
      ],
      "metadata": {
        "colab": {
          "base_uri": "https://localhost:8080/"
        },
        "id": "dLGzb7m53cfz",
        "outputId": "832d864d-4d2d-4c8a-fd1d-a4d999481247"
      },
      "execution_count": null,
      "outputs": [
        {
          "output_type": "stream",
          "name": "stdout",
          "text": [
            "* * * * * * * *  \n",
            "* \n",
            "* \n",
            "* \n",
            "* \n",
            "* \n",
            "* \n",
            "* \n",
            "* \n",
            "* * * * * * * *  \n",
            "* \n",
            "* \n",
            "* \n",
            "* \n",
            "* \n",
            "* \n",
            "* \n",
            "* \n",
            "* * * * * * * *  "
          ]
        }
      ]
    },
    {
      "cell_type": "code",
      "source": [
        "for i in range(0,1):\n",
        " print(\"* \"*8,end=' ')\n",
        "print()\n",
        "for i in range(0,8):\n",
        "  print(\"* \")\n",
        "for i in range(0,1):\n",
        " print(\"* \"*8,end=' ')\n",
        "print()\n",
        "for i in range(0,8):\n",
        "  print(\"* \")"
      ],
      "metadata": {
        "colab": {
          "base_uri": "https://localhost:8080/"
        },
        "id": "6M5nFNw531mq",
        "outputId": "06f39d95-37a6-4f04-c866-33edce4a1cad"
      },
      "execution_count": null,
      "outputs": [
        {
          "output_type": "stream",
          "name": "stdout",
          "text": [
            "* * * * * * * *  \n",
            "* \n",
            "* \n",
            "* \n",
            "* \n",
            "* \n",
            "* \n",
            "* \n",
            "* \n",
            "* * * * * * * *  \n",
            "* \n",
            "* \n",
            "* \n",
            "* \n",
            "* \n",
            "* \n",
            "* \n",
            "* \n"
          ]
        }
      ]
    },
    {
      "cell_type": "code",
      "source": [
        "for i in range(0,1):\n",
        " print(\"* \"*8,end=' ')\n",
        "print()\n",
        "for i in range(0,4):\n",
        "  print(\"* \"+\" \"*12)\n",
        "for i in range(0,1):\n",
        "  print(\"*\"+\" \"*13+\"* \"*6,end='')\n",
        "print()\n",
        "for i in range(0,4):\n",
        "  print(\"* \"+\" \"*12+\"*\"+\" \"*9+\"* \")\n",
        "for i in range(0,1):\n",
        " print(\"* \"*8,end=' '+\" \"*7+\"*\")"
      ],
      "metadata": {
        "colab": {
          "base_uri": "https://localhost:8080/"
        },
        "id": "CQnMfYrD4Cwr",
        "outputId": "0e66096e-be7e-4d2e-dffc-64bfdf6c1157"
      },
      "execution_count": null,
      "outputs": [
        {
          "output_type": "stream",
          "name": "stdout",
          "text": [
            "* * * * * * * *  \n",
            "*             \n",
            "*             \n",
            "*             \n",
            "*             \n",
            "*             * * * * * * \n",
            "*             *         * \n",
            "*             *         * \n",
            "*             *         * \n",
            "*             *         * \n",
            "* * * * * * * *         *"
          ]
        }
      ]
    },
    {
      "cell_type": "code",
      "source": [
        "for i in range(0,5):\n",
        "  print(\"* \"+\" \"*14+\"*\")\n",
        "for i in range(0,1):\n",
        " print(\"* \"*9,end=' ')\n",
        "print()\n",
        "for i in range(0,5):\n",
        "  print(\"* \"+\" \"*14+\"*\")"
      ],
      "metadata": {
        "colab": {
          "base_uri": "https://localhost:8080/"
        },
        "id": "gvPzoVDa4Oz3",
        "outputId": "164267c4-87cf-4e82-c8fe-33dd1495a492"
      },
      "execution_count": null,
      "outputs": [
        {
          "output_type": "stream",
          "name": "stdout",
          "text": [
            "*               *\n",
            "*               *\n",
            "*               *\n",
            "*               *\n",
            "*               *\n",
            "* * * * * * * * *  \n",
            "*               *\n",
            "*               *\n",
            "*               *\n",
            "*               *\n",
            "*               *\n"
          ]
        }
      ]
    },
    {
      "cell_type": "code",
      "source": [
        "for i in range(0,1):\n",
        "  print(\" \"*5+\"* \"*5)\n",
        "for i in range(0,10):\n",
        "  print(\" \"*9+\"*\")\n",
        "for i in range(0,1):\n",
        "  print(\" \"*5+\"* \"*5)\n"
      ],
      "metadata": {
        "colab": {
          "base_uri": "https://localhost:8080/"
        },
        "id": "UTDqsdGykQpO",
        "outputId": "5a50ec2d-155b-4615-a5a4-32f06aac7539"
      },
      "execution_count": null,
      "outputs": [
        {
          "output_type": "stream",
          "name": "stdout",
          "text": [
            "     * * * * * \n",
            "         *\n",
            "         *\n",
            "         *\n",
            "         *\n",
            "         *\n",
            "         *\n",
            "         *\n",
            "         *\n",
            "         *\n",
            "         *\n",
            "     * * * * * \n"
          ]
        }
      ]
    },
    {
      "cell_type": "code",
      "source": [
        "for i in range(0,1):\n",
        "  print(\"* \"*10)\n",
        "for i in range(0,10):\n",
        "  print(\" \"*9+\"* \")\n",
        "for i in range(0,1):\n",
        "  print(\" *\"*5)\n"
      ],
      "metadata": {
        "colab": {
          "base_uri": "https://localhost:8080/"
        },
        "id": "v63QwrmwlGBB",
        "outputId": "016fad3e-0706-44b0-b32f-693e701782ee"
      },
      "execution_count": null,
      "outputs": [
        {
          "output_type": "stream",
          "name": "stdout",
          "text": [
            "* * * * * * * * * * \n",
            "         * \n",
            "         * \n",
            "         * \n",
            "         * \n",
            "         * \n",
            "         * \n",
            "         * \n",
            "         * \n",
            "         * \n",
            "         * \n",
            " * * * * *\n"
          ]
        }
      ]
    },
    {
      "cell_type": "code",
      "source": [
        "for i in range(0,5):\n",
        "  print(\"*\"+\"  \"*(5-i)+\"*\"*1)\n",
        "for i in range(0,5):\n",
        "  print(\"* \"+\"  \"*(i)+\"*\"*1)"
      ],
      "metadata": {
        "colab": {
          "base_uri": "https://localhost:8080/"
        },
        "id": "wNZtmwEYl0Gp",
        "outputId": "c27722be-68ea-49e3-bdc0-6de306fb9af0"
      },
      "execution_count": null,
      "outputs": [
        {
          "output_type": "stream",
          "name": "stdout",
          "text": [
            "*          *\n",
            "*        *\n",
            "*      *\n",
            "*    *\n",
            "*  *\n",
            "* *\n",
            "*   *\n",
            "*     *\n",
            "*       *\n",
            "*         *\n"
          ]
        }
      ]
    },
    {
      "cell_type": "code",
      "source": [
        "for i in range(0,10):\n",
        "  print(\"*\")\n",
        "for i in range(0,1):\n",
        "  print(\"* \"*10,end=' ')"
      ],
      "metadata": {
        "colab": {
          "base_uri": "https://localhost:8080/"
        },
        "id": "VzUoBFNCmUkU",
        "outputId": "5fcf6ab9-f789-4948-9db5-30164ee512e5"
      },
      "execution_count": null,
      "outputs": [
        {
          "output_type": "stream",
          "name": "stdout",
          "text": [
            "*\n",
            "*\n",
            "*\n",
            "*\n",
            "*\n",
            "*\n",
            "*\n",
            "*\n",
            "*\n",
            "*\n",
            "* * * * * * * * * *  "
          ]
        }
      ]
    },
    {
      "cell_type": "code",
      "source": [
        "for i in range(0,10):\n",
        "  print(\" \"*(10-i)+\"*\"*1+\"  \"*i+\"*\"*1+\"  \"*(10-i)+\"*\"*1+\"  \"*i+\"*\"*1)"
      ],
      "metadata": {
        "colab": {
          "base_uri": "https://localhost:8080/"
        },
        "id": "UuY1lGidn4Og",
        "outputId": "2cebd63c-bb73-4a3f-eda5-53eb2f25f0ac"
      },
      "execution_count": null,
      "outputs": [
        {
          "output_type": "stream",
          "name": "stdout",
          "text": [
            "          **                    **\n",
            "         *  *                  *  *\n",
            "        *    *                *    *\n",
            "       *      *              *      *\n",
            "      *        *            *        *\n",
            "     *          *          *          *\n",
            "    *            *        *            *\n",
            "   *              *      *              *\n",
            "  *                *    *                *\n",
            " *                  *  *                  *\n"
          ]
        }
      ]
    },
    {
      "cell_type": "code",
      "source": [
        "for i in range(0,10):\n",
        "  print(\" \"*(10-i)+\"*\"*1+\"  \"*i+\"*\"*1+\"  \"*(10-i)+\"*\"*1)"
      ],
      "metadata": {
        "colab": {
          "base_uri": "https://localhost:8080/"
        },
        "id": "-qIjrUvKoe9Z",
        "outputId": "9a5662d1-edc4-429b-cc16-cf12b1abe4bd"
      },
      "execution_count": null,
      "outputs": [
        {
          "output_type": "stream",
          "name": "stdout",
          "text": [
            "          **                    *\n",
            "         *  *                  *\n",
            "        *    *                *\n",
            "       *      *              *\n",
            "      *        *            *\n",
            "     *          *          *\n",
            "    *            *        *\n",
            "   *              *      *\n",
            "  *                *    *\n",
            " *                  *  *\n"
          ]
        }
      ]
    },
    {
      "cell_type": "code",
      "source": [
        "for i in range(0,1):\n",
        " print(\"* \"*9,end=' ')\n",
        "print()\n",
        "for i in range(0,8):\n",
        "  print(\"* \"+\" \"*14+\"*\")\n",
        "for i in range(0,1):\n",
        " print(\"* \"*9,end=' ')"
      ],
      "metadata": {
        "colab": {
          "base_uri": "https://localhost:8080/"
        },
        "id": "Zdvj--ujo3c8",
        "outputId": "654a1242-65db-481f-a0ce-1bfedaa598f4"
      },
      "execution_count": null,
      "outputs": [
        {
          "output_type": "stream",
          "name": "stdout",
          "text": [
            "* * * * * * * * *  \n",
            "*               *\n",
            "*               *\n",
            "*               *\n",
            "*               *\n",
            "*               *\n",
            "*               *\n",
            "*               *\n",
            "*               *\n",
            "* * * * * * * * *  "
          ]
        }
      ]
    },
    {
      "cell_type": "code",
      "source": [
        "for i in range(0,1):\n",
        " print(\"* \"*9,end=' ')\n",
        "print()\n",
        "for i in range(0,8):\n",
        "  print(\"* \"+\" \"*14+\"*\")\n",
        "for i in range(0,1):\n",
        " print(\"* \"*9,end=' ')\n",
        "print()\n",
        "for i in range(0,8):\n",
        "  print(\"*\")\n"
      ],
      "metadata": {
        "colab": {
          "base_uri": "https://localhost:8080/"
        },
        "id": "rL7DWPAbpTfZ",
        "outputId": "e08fb444-635b-405a-c35f-c156cb2e355f"
      },
      "execution_count": null,
      "outputs": [
        {
          "output_type": "stream",
          "name": "stdout",
          "text": [
            "* * * * * * * * *  \n",
            "*               *\n",
            "*               *\n",
            "*               *\n",
            "*               *\n",
            "*               *\n",
            "*               *\n",
            "*               *\n",
            "*               *\n",
            "* * * * * * * * *  \n",
            "*\n",
            "*\n",
            "*\n",
            "*\n",
            "*\n",
            "*\n",
            "*\n",
            "*\n"
          ]
        }
      ]
    },
    {
      "cell_type": "code",
      "source": [
        "for i in range(0,1):\n",
        " print(\"* \"*9,end=' ')\n",
        "print()\n",
        "for i in range(0,8):\n",
        "  print(\"* \"+\" \"*14+\"*\")\n",
        "for i in range(0,1):\n",
        " print(\"* \"*9,end=' ')\n",
        "print()\n",
        "for i in range(0,8):\n",
        "  print(\" \"*7+\"*\")\n",
        "for i in range(0,1):\n",
        "  print(\" \"*7+\"* \"*4)\n"
      ],
      "metadata": {
        "colab": {
          "base_uri": "https://localhost:8080/"
        },
        "id": "Hemus8Fdphow",
        "outputId": "282772ec-e660-48fe-e8e1-2d5414040a5f"
      },
      "execution_count": null,
      "outputs": [
        {
          "output_type": "stream",
          "name": "stdout",
          "text": [
            "* * * * * * * * *  \n",
            "*               *\n",
            "*               *\n",
            "*               *\n",
            "*               *\n",
            "*               *\n",
            "*               *\n",
            "*               *\n",
            "*               *\n",
            "* * * * * * * * *  \n",
            "       *\n",
            "       *\n",
            "       *\n",
            "       *\n",
            "       *\n",
            "       *\n",
            "       *\n",
            "       *\n",
            "       * * * * \n"
          ]
        }
      ]
    },
    {
      "cell_type": "code",
      "source": [
        "for i in range(0,1):\n",
        " print(\"* \"*9,end=' ')\n",
        "print()\n",
        "for i in range(0,8):\n",
        "  print(\"* \"+\" \"*14+\"*\")\n",
        "for i in range(0,1):\n",
        " print(\"* \"*9,end=' ')\n",
        "print()\n",
        "for i in range(0,8):\n",
        "  print(\"* \"+\"  \"*(i)+\"*\"*1)\n",
        "\n"
      ],
      "metadata": {
        "colab": {
          "base_uri": "https://localhost:8080/"
        },
        "id": "cn76zha9pxWA",
        "outputId": "6e258029-ac0b-468b-88a6-9955628f1fc6"
      },
      "execution_count": null,
      "outputs": [
        {
          "output_type": "stream",
          "name": "stdout",
          "text": [
            "* * * * * * * * *  \n",
            "*               *\n",
            "*               *\n",
            "*               *\n",
            "*               *\n",
            "*               *\n",
            "*               *\n",
            "*               *\n",
            "*               *\n",
            "* * * * * * * * *  \n",
            "* *\n",
            "*   *\n",
            "*     *\n",
            "*       *\n",
            "*         *\n",
            "*           *\n",
            "*             *\n",
            "*               *\n"
          ]
        }
      ]
    },
    {
      "cell_type": "code",
      "source": [
        "for i in range(0,1):\n",
        " print(\"* \"*8,end=' ')\n",
        "print()\n",
        "for i in range(0,8):\n",
        "  print(\"* \")\n",
        "for i in range(0,1):\n",
        " print(\"* \"*8,end=' ')\n",
        "print()\n",
        "for i in range(0,8):\n",
        "  print(\" \"*14+\"* \")\n",
        "for i in range(0,1):\n",
        " print(\"* \"*8,end=' ')"
      ],
      "metadata": {
        "colab": {
          "base_uri": "https://localhost:8080/"
        },
        "id": "y77648ZpqXXg",
        "outputId": "3ae48a45-6fc5-46e5-d01d-33000fc1cf5c"
      },
      "execution_count": null,
      "outputs": [
        {
          "output_type": "stream",
          "name": "stdout",
          "text": [
            "* * * * * * * *  \n",
            "* \n",
            "* \n",
            "* \n",
            "* \n",
            "* \n",
            "* \n",
            "* \n",
            "* \n",
            "* * * * * * * *  \n",
            "              * \n",
            "              * \n",
            "              * \n",
            "              * \n",
            "              * \n",
            "              * \n",
            "              * \n",
            "              * \n",
            "* * * * * * * *  "
          ]
        }
      ]
    },
    {
      "cell_type": "code",
      "source": [
        "for i in range(0,1):\n",
        "  print(\"* \"*10)\n",
        "for i in range(0,10):\n",
        "  print(\" \"*9+\"* \")"
      ],
      "metadata": {
        "colab": {
          "base_uri": "https://localhost:8080/"
        },
        "id": "mP9QabfarfEu",
        "outputId": "918c70ad-b81e-48c0-a736-48a2048935b1"
      },
      "execution_count": null,
      "outputs": [
        {
          "output_type": "stream",
          "name": "stdout",
          "text": [
            "* * * * * * * * * * \n",
            "         * \n",
            "         * \n",
            "         * \n",
            "         * \n",
            "         * \n",
            "         * \n",
            "         * \n",
            "         * \n",
            "         * \n",
            "         * \n"
          ]
        }
      ]
    },
    {
      "cell_type": "code",
      "source": [
        "for i in range(0,8):\n",
        "  print(\"* \"+\" \"*14+\"*\")\n",
        "for i in range(0,1):\n",
        " print(\"* \"*9,end=' ')"
      ],
      "metadata": {
        "colab": {
          "base_uri": "https://localhost:8080/"
        },
        "id": "ChKmOoN_r5Q8",
        "outputId": "c0db7e24-2615-4072-c109-9f714c6e39c6"
      },
      "execution_count": null,
      "outputs": [
        {
          "output_type": "stream",
          "name": "stdout",
          "text": [
            "*               *\n",
            "*               *\n",
            "*               *\n",
            "*               *\n",
            "*               *\n",
            "*               *\n",
            "*               *\n",
            "*               *\n",
            "* * * * * * * * *  "
          ]
        }
      ]
    },
    {
      "cell_type": "code",
      "source": [
        "for i in range(0,10):\n",
        "  print(\" \"*i+\"*\"*1+\"  \"*(10-i)+\"*\"*1)"
      ],
      "metadata": {
        "colab": {
          "base_uri": "https://localhost:8080/"
        },
        "id": "YcYWN3i5r_KB",
        "outputId": "9d6f450b-c262-4896-985e-177e8f3e7ca9"
      },
      "execution_count": null,
      "outputs": [
        {
          "output_type": "stream",
          "name": "stdout",
          "text": [
            "*                    *\n",
            " *                  *\n",
            "  *                *\n",
            "   *              *\n",
            "    *            *\n",
            "     *          *\n",
            "      *        *\n",
            "       *      *\n",
            "        *    *\n",
            "         *  *\n"
          ]
        }
      ]
    },
    {
      "cell_type": "code",
      "source": [
        "for i in range(0,10):\n",
        "  print(\" \"*i+\"*\"*1+\"  \"*(10-i)+\"*\"*1+(\"  \"*i+\"*\"*1+\"  \"*(10-i)+\"*\"*1))"
      ],
      "metadata": {
        "colab": {
          "base_uri": "https://localhost:8080/"
        },
        "id": "1rmftPaisc3S",
        "outputId": "6cd46665-327c-43b7-afa7-4fa2c07f55de"
      },
      "execution_count": null,
      "outputs": [
        {
          "output_type": "stream",
          "name": "stdout",
          "text": [
            "*                    **                    *\n",
            " *                  *  *                  *\n",
            "  *                *    *                *\n",
            "   *              *      *              *\n",
            "    *            *        *            *\n",
            "     *          *          *          *\n",
            "      *        *            *        *\n",
            "       *      *              *      *\n",
            "        *    *                *    *\n",
            "         *  *                  *  *\n"
          ]
        }
      ]
    },
    {
      "cell_type": "code",
      "source": [
        "for i in range(0,10):\n",
        "  print(\" \"*i+\"*\"*1+\"  \"*(10-i)+\"*\"*1)\n",
        "for i in range(0,10):\n",
        "  print(\" \"*(10-i)+\"*\"*1+(\"  \"*i+\"*\"*1))"
      ],
      "metadata": {
        "colab": {
          "base_uri": "https://localhost:8080/"
        },
        "id": "ZadhSYq3s9MO",
        "outputId": "dea038cf-fdd8-4024-fa21-2a7e8b956a67"
      },
      "execution_count": null,
      "outputs": [
        {
          "output_type": "stream",
          "name": "stdout",
          "text": [
            "*                    *\n",
            " *                  *\n",
            "  *                *\n",
            "   *              *\n",
            "    *            *\n",
            "     *          *\n",
            "      *        *\n",
            "       *      *\n",
            "        *    *\n",
            "         *  *\n",
            "          **\n",
            "         *  *\n",
            "        *    *\n",
            "       *      *\n",
            "      *        *\n",
            "     *          *\n",
            "    *            *\n",
            "   *              *\n",
            "  *                *\n",
            " *                  *\n"
          ]
        }
      ]
    },
    {
      "cell_type": "code",
      "source": [
        "for i in range(0,10):\n",
        "  print(\" \"*i+\"* \"*1+\"  \"*(10-i)+\"*\"*1)\n",
        "for i in range(0,10):\n",
        "  print(\" \"*10+\" *\")"
      ],
      "metadata": {
        "colab": {
          "base_uri": "https://localhost:8080/"
        },
        "id": "Ma8c2yPt3s7k",
        "outputId": "3a83dc22-f5a1-4e84-faa1-58a7d4bbdb6c"
      },
      "execution_count": null,
      "outputs": [
        {
          "output_type": "stream",
          "name": "stdout",
          "text": [
            "*                     *\n",
            " *                   *\n",
            "  *                 *\n",
            "   *               *\n",
            "    *             *\n",
            "     *           *\n",
            "      *         *\n",
            "       *       *\n",
            "        *     *\n",
            "         *   *\n",
            "           *\n",
            "           *\n",
            "           *\n",
            "           *\n",
            "           *\n",
            "           *\n",
            "           *\n",
            "           *\n",
            "           *\n",
            "           *\n"
          ]
        }
      ]
    },
    {
      "cell_type": "code",
      "source": [
        "for i in range(0,1):\n",
        "  print(\"* \"*7)\n",
        "for i in range(0,10):\n",
        "  print(\" \"*(10-i)+\"*\"*1)\n",
        "for i in range(0,1):\n",
        "  print(\"* \"*7)\n"
      ],
      "metadata": {
        "colab": {
          "base_uri": "https://localhost:8080/"
        },
        "id": "uAJ7qVDw4CBh",
        "outputId": "a32c6379-4da1-4a73-a773-826b7dba9152"
      },
      "execution_count": null,
      "outputs": [
        {
          "output_type": "stream",
          "name": "stdout",
          "text": [
            "* * * * * * * \n",
            "          *\n",
            "         *\n",
            "        *\n",
            "       *\n",
            "      *\n",
            "     *\n",
            "    *\n",
            "   *\n",
            "  *\n",
            " *\n",
            "* * * * * * * \n"
          ]
        }
      ]
    },
    {
      "cell_type": "code",
      "source": [],
      "metadata": {
        "id": "Ywm-bFUd49Pl"
      },
      "execution_count": null,
      "outputs": []
    }
  ]
}