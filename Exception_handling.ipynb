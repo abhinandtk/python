{
  "nbformat": 4,
  "nbformat_minor": 0,
  "metadata": {
    "colab": {
      "provenance": [],
      "authorship_tag": "ABX9TyNoalOPgm5lFII7pzAT/ZaS",
      "include_colab_link": true
    },
    "kernelspec": {
      "name": "python3",
      "display_name": "Python 3"
    },
    "language_info": {
      "name": "python"
    }
  },
  "cells": [
    {
      "cell_type": "markdown",
      "metadata": {
        "id": "view-in-github",
        "colab_type": "text"
      },
      "source": [
        "<a href=\"https://colab.research.google.com/github/abhinandtk/python_data_types/blob/main/Exception_handling.ipynb\" target=\"_parent\"><img src=\"https://colab.research.google.com/assets/colab-badge.svg\" alt=\"Open In Colab\"/></a>"
      ]
    },
    {
      "cell_type": "code",
      "source": [
        "li=[1,2,3]\n",
        "try:\n",
        "  print(li[2])\n",
        "  print(li[3])\n",
        "except:\n",
        "  print(\"this is error\")"
      ],
      "metadata": {
        "colab": {
          "base_uri": "https://localhost:8080/"
        },
        "id": "DgyscDJikg-o",
        "outputId": "a7b95ffa-e164-41f7-cec5-cadc78cb1c5f"
      },
      "execution_count": null,
      "outputs": [
        {
          "output_type": "stream",
          "name": "stdout",
          "text": [
            "3\n",
            "this is error\n"
          ]
        }
      ]
    },
    {
      "cell_type": "code",
      "source": [
        "li=[1,2,3]\n",
        "try:\n",
        "  print(li[2])\n",
        "  print(li[3])\n",
        "  print(li[4])\n",
        "except:\n",
        "  print(\"this is error\")"
      ],
      "metadata": {
        "colab": {
          "base_uri": "https://localhost:8080/"
        },
        "id": "uYFsxm9elHC9",
        "outputId": "a7bf6014-3a85-4573-e9d7-a60cbbd6639d"
      },
      "execution_count": null,
      "outputs": [
        {
          "output_type": "stream",
          "name": "stdout",
          "text": [
            "3\n",
            "this is error\n"
          ]
        }
      ]
    },
    {
      "cell_type": "code",
      "source": [
        "try:\n",
        " num=int(input(\"enter  a number\"))\n",
        " assert num%2==0\n",
        "except:\n",
        "  print(\"not an even number\")\n",
        "else:\n",
        "  reciprocal=1/num\n",
        "  print(reciprocal)"
      ],
      "metadata": {
        "colab": {
          "base_uri": "https://localhost:8080/"
        },
        "id": "VpMIEchhmcde",
        "outputId": "dd7062f1-9a21-47a7-873e-a5bbef7b3040"
      },
      "execution_count": null,
      "outputs": [
        {
          "output_type": "stream",
          "name": "stdout",
          "text": [
            "enter  a number6\n",
            "0.16666666666666666\n"
          ]
        }
      ]
    },
    {
      "cell_type": "code",
      "source": [
        "try:\n",
        "    k=10//0\n",
        "except ZeroDivisionError:\n",
        "  print(\"Can't divide by zero\")\n",
        "finally:\n",
        "     print('This is always executed')"
      ],
      "metadata": {
        "id": "5rS1xykEm3wd",
        "colab": {
          "base_uri": "https://localhost:8080/"
        },
        "outputId": "902a56ef-1921-4f95-9df2-f3c2cd955c6f"
      },
      "execution_count": null,
      "outputs": [
        {
          "output_type": "stream",
          "name": "stdout",
          "text": [
            "Can't divide by zero\n",
            "This is always executed\n"
          ]
        }
      ]
    },
    {
      "cell_type": "code",
      "source": [
        "def fun(a):\n",
        "  if a < 4:\n",
        "   b = a/(a-3)\n",
        "try:\n",
        "     fun(3)\n",
        "     fun(5)\n",
        "except ZeroDivisionError:\n",
        "  print(\"ZeroDivisionError Occurred and Handled\")\n",
        "except NameError:\n",
        "  print(\"NameError Occurred and Handled\")\n",
        "try:\n",
        "    k = 10//0\n",
        "    print(k)\n",
        "except ZeroDivisionError:\n",
        "     print(\"Can't divide by zero\")"
      ],
      "metadata": {
        "colab": {
          "base_uri": "https://localhost:8080/"
        },
        "id": "aTZwTcGZ2WsH",
        "outputId": "9458d6ff-8836-416c-964f-db895d5e16ff"
      },
      "execution_count": null,
      "outputs": [
        {
          "output_type": "stream",
          "name": "stdout",
          "text": [
            "ZeroDivisionError Occurred and Handled\n",
            "Can't divide by zero\n"
          ]
        }
      ]
    },
    {
      "cell_type": "code",
      "source": [
        "try:\n",
        "   num= int(input(\"Enter a number: \"))\n",
        "   assert num%2==0\n",
        "except:\n",
        "   print(\"Not an even number!\")\n",
        "else:\n",
        "    reciprocal = 1/num\n",
        "    print (reciprocal)\n",
        "\n",
        "# import module sys to get the type of exception\n",
        "\n",
        "import sys\n",
        "randomList = ['a', 0, 2]\n",
        "for entry in randomList:\n",
        "   try:\n",
        "       print(\"The entry is\", entry)\n",
        "       r = 1/int (entry)\n",
        "       break\n",
        "   except:\n",
        "         print(\"Oops!\", sys.exc_info()[0], \"occurred\")\n",
        "         print(\"Next entry.\")\n",
        "         print()\n",
        "print(\"The reciprocal of\", entry, \"is\", r)\n"
      ],
      "metadata": {
        "colab": {
          "base_uri": "https://localhost:8080/"
        },
        "id": "CTVLjHYI2ck5",
        "outputId": "5ad3e1f6-3a3b-4539-c1ac-0906b15b8a36"
      },
      "execution_count": null,
      "outputs": [
        {
          "output_type": "stream",
          "name": "stdout",
          "text": [
            "Enter a number: 7\n",
            "Not an even number!\n",
            "The entry is a\n",
            "Oops! <class 'ValueError'> occurred\n",
            "Next entry.\n",
            "\n",
            "The entry is 0\n",
            "Oops! <class 'ZeroDivisionError'> occurred\n",
            "Next entry.\n",
            "\n",
            "The entry is 2\n",
            "The reciprocal of 2 is 0.5\n"
          ]
        }
      ]
    },
    {
      "cell_type": "code",
      "source": [],
      "metadata": {
        "id": "Yw_FEXRW2mXH"
      },
      "execution_count": null,
      "outputs": []
    }
  ]
}