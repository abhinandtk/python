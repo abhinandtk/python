{
  "nbformat": 4,
  "nbformat_minor": 0,
  "metadata": {
    "colab": {
      "provenance": [],
      "authorship_tag": "ABX9TyPxw4Q/Y4tKPkfiRn2z6RnI",
      "include_colab_link": true
    },
    "kernelspec": {
      "name": "python3",
      "display_name": "Python 3"
    },
    "language_info": {
      "name": "python"
    }
  },
  "cells": [
    {
      "cell_type": "markdown",
      "metadata": {
        "id": "view-in-github",
        "colab_type": "text"
      },
      "source": [
        "<a href=\"https://colab.research.google.com/github/abhinandtk/python_data_types/blob/main/python_task2.ipynb\" target=\"_parent\"><img src=\"https://colab.research.google.com/assets/colab-badge.svg\" alt=\"Open In Colab\"/></a>"
      ]
    },
    {
      "cell_type": "code",
      "execution_count": null,
      "metadata": {
        "id": "epgjN5JDugMO"
      },
      "outputs": [],
      "source": [
        "#1.write a python program  to create a set"
      ]
    },
    {
      "cell_type": "code",
      "source": [
        "s1={\"messi\",\"neymar\",\"suarez\",\"kaka\"}"
      ],
      "metadata": {
        "id": "JXN1P4_duw3P"
      },
      "execution_count": null,
      "outputs": []
    },
    {
      "cell_type": "code",
      "source": [
        "s1"
      ],
      "metadata": {
        "colab": {
          "base_uri": "https://localhost:8080/"
        },
        "id": "-1Cc5Y5qu_cA",
        "outputId": "aa930a1b-f436-41d1-9d89-94ef594662e7"
      },
      "execution_count": null,
      "outputs": [
        {
          "output_type": "execute_result",
          "data": {
            "text/plain": [
              "{'kaka', 'messi', 'neymar', 'suarez'}"
            ]
          },
          "metadata": {},
          "execution_count": 13
        }
      ]
    },
    {
      "cell_type": "code",
      "source": [
        "#2.write a python program to remove item(s) from python set"
      ],
      "metadata": {
        "id": "Gvg9cj7cvEGa"
      },
      "execution_count": null,
      "outputs": []
    },
    {
      "cell_type": "code",
      "source": [
        "s1"
      ],
      "metadata": {
        "colab": {
          "base_uri": "https://localhost:8080/"
        },
        "id": "jA9jEZvlzZnj",
        "outputId": "516aa046-d54d-4f00-82f3-33a838348d8f"
      },
      "execution_count": null,
      "outputs": [
        {
          "output_type": "execute_result",
          "data": {
            "text/plain": [
              "{'kaka', 'messi', 'neymar', 'suarez'}"
            ]
          },
          "metadata": {},
          "execution_count": 19
        }
      ]
    },
    {
      "cell_type": "code",
      "source": [
        "s1.remove(\"suarez\")"
      ],
      "metadata": {
        "id": "C9qY4kvAzNxH"
      },
      "execution_count": null,
      "outputs": []
    },
    {
      "cell_type": "code",
      "source": [
        "#3.write a python program to add member(s) in a set"
      ],
      "metadata": {
        "id": "F3v7oBf4xE-_"
      },
      "execution_count": null,
      "outputs": []
    },
    {
      "cell_type": "code",
      "source": [
        "s1.add(\"suarez\")"
      ],
      "metadata": {
        "id": "HpNXw2_4wxm6"
      },
      "execution_count": null,
      "outputs": []
    },
    {
      "cell_type": "code",
      "source": [
        "set={\"\"}\n",
        "s=(input(\"enter add value\"))\n",
        "for i in s:\n",
        " set.add(s)                        #another method\n",
        "print(set)\n"
      ],
      "metadata": {
        "colab": {
          "base_uri": "https://localhost:8080/"
        },
        "id": "ZV9P7HigzvWP",
        "outputId": "ce9041f9-24de-4726-e00c-f35ed2aabfdc"
      },
      "execution_count": null,
      "outputs": [
        {
          "output_type": "stream",
          "name": "stdout",
          "text": [
            "enter add value3\n",
            "{'', '3'}\n"
          ]
        }
      ]
    },
    {
      "cell_type": "code",
      "source": [
        "#4.Write a Python program to create an intersection, union, set difference, symmetric difference of sets."
      ],
      "metadata": {
        "id": "fua5enOA0Ufi"
      },
      "execution_count": null,
      "outputs": []
    },
    {
      "cell_type": "code",
      "source": [
        "s2={\"ronaldo\",\"suarez\",\"bale\"}\n",
        "y=s1.intersection(s2)          #intersection"
      ],
      "metadata": {
        "id": "gb03j4J-1b0i"
      },
      "execution_count": null,
      "outputs": []
    },
    {
      "cell_type": "code",
      "source": [
        "y"
      ],
      "metadata": {
        "colab": {
          "base_uri": "https://localhost:8080/"
        },
        "id": "NQixC8iq1zEI",
        "outputId": "0f134290-f38f-433a-ff8a-95f094e7b79a"
      },
      "execution_count": null,
      "outputs": [
        {
          "output_type": "execute_result",
          "data": {
            "text/plain": [
              "{'suarez'}"
            ]
          },
          "metadata": {},
          "execution_count": 32
        }
      ]
    },
    {
      "cell_type": "code",
      "source": [
        "s3={\"neymar\"}"
      ],
      "metadata": {
        "id": "gKFj88V511cu"
      },
      "execution_count": null,
      "outputs": []
    },
    {
      "cell_type": "code",
      "source": [
        "z=s1.difference(s3)"
      ],
      "metadata": {
        "id": "unmiBiba2Za1"
      },
      "execution_count": null,
      "outputs": []
    },
    {
      "cell_type": "code",
      "source": [
        "z"
      ],
      "metadata": {
        "colab": {
          "base_uri": "https://localhost:8080/"
        },
        "id": "0mp9Km2f2elH",
        "outputId": "e71ec900-88a0-4dcd-acee-e5fd8111187c"
      },
      "execution_count": null,
      "outputs": [
        {
          "output_type": "execute_result",
          "data": {
            "text/plain": [
              "{'kaka', 'messi', 'suarez'}"
            ]
          },
          "metadata": {},
          "execution_count": 35
        }
      ]
    },
    {
      "cell_type": "code",
      "source": [
        "s1.symmetric_difference(z)"
      ],
      "metadata": {
        "colab": {
          "base_uri": "https://localhost:8080/"
        },
        "id": "Fm17NnQH2hGv",
        "outputId": "9e220354-2c3c-4c47-8acf-54c2a1549f30"
      },
      "execution_count": null,
      "outputs": [
        {
          "output_type": "execute_result",
          "data": {
            "text/plain": [
              "{'neymar'}"
            ]
          },
          "metadata": {},
          "execution_count": 36
        }
      ]
    },
    {
      "cell_type": "code",
      "source": [
        "#5.Write a Python program to create a shallow copy of sets."
      ],
      "metadata": {
        "id": "YJvv_TR824DZ"
      },
      "execution_count": null,
      "outputs": []
    },
    {
      "cell_type": "code",
      "source": [
        "se1={1,4,5}\n",
        "se2={2,3}\n",
        "se3=se2.copy()"
      ],
      "metadata": {
        "id": "iOF44nyD5d5l"
      },
      "execution_count": null,
      "outputs": []
    },
    {
      "cell_type": "code",
      "source": [
        "se3"
      ],
      "metadata": {
        "colab": {
          "base_uri": "https://localhost:8080/"
        },
        "id": "MkFcd-8s5zBJ",
        "outputId": "e9679d8f-7025-4b72-f8bf-40f6c45895a9"
      },
      "execution_count": null,
      "outputs": [
        {
          "output_type": "execute_result",
          "data": {
            "text/plain": [
              "{2, 3}"
            ]
          },
          "metadata": {},
          "execution_count": 44
        }
      ]
    },
    {
      "cell_type": "code",
      "source": [
        "#6.Write a Python program to remove all elements from a given set."
      ],
      "metadata": {
        "id": "ihwC95D96AiQ"
      },
      "execution_count": null,
      "outputs": []
    },
    {
      "cell_type": "code",
      "source": [
        "x={\"hello\",\"hai\",\"how\"}"
      ],
      "metadata": {
        "id": "BGKAPkSL6mOB"
      },
      "execution_count": null,
      "outputs": []
    },
    {
      "cell_type": "code",
      "source": [
        "x.clear()"
      ],
      "metadata": {
        "id": "r25j90ux689A"
      },
      "execution_count": null,
      "outputs": []
    },
    {
      "cell_type": "code",
      "source": [
        "x"
      ],
      "metadata": {
        "colab": {
          "base_uri": "https://localhost:8080/"
        },
        "id": "yiTZYXaJ6-_N",
        "outputId": "eefa2d57-f4ac-4d09-9cbd-c7aa41d42925"
      },
      "execution_count": null,
      "outputs": [
        {
          "output_type": "execute_result",
          "data": {
            "text/plain": [
              "set()"
            ]
          },
          "metadata": {},
          "execution_count": 47
        }
      ]
    },
    {
      "cell_type": "code",
      "source": [
        "#7.Write a Python program to find the length of a set."
      ],
      "metadata": {
        "id": "V1yPo9ec6_oQ"
      },
      "execution_count": null,
      "outputs": []
    },
    {
      "cell_type": "code",
      "source": [
        "y={\"hello\",\"hai\",\"how\"}"
      ],
      "metadata": {
        "id": "otNGolN57En4"
      },
      "execution_count": null,
      "outputs": []
    },
    {
      "cell_type": "code",
      "source": [
        "len(y)"
      ],
      "metadata": {
        "colab": {
          "base_uri": "https://localhost:8080/"
        },
        "id": "aQRAhpid7K4k",
        "outputId": "50dec3b3-0ca4-42c8-a032-c026d056a9f8"
      },
      "execution_count": null,
      "outputs": [
        {
          "output_type": "execute_result",
          "data": {
            "text/plain": [
              "3"
            ]
          },
          "metadata": {},
          "execution_count": 49
        }
      ]
    },
    {
      "cell_type": "code",
      "source": [
        "#8.Write a Python program to check if a set is a subset of another set."
      ],
      "metadata": {
        "id": "2M2PIzII7MiZ"
      },
      "execution_count": null,
      "outputs": []
    },
    {
      "cell_type": "code",
      "source": [
        "n1={\"hello\",\"hai\",\"how\",\"who\"}\n",
        "n2={\"hello\",\"hai\"}"
      ],
      "metadata": {
        "id": "iVXgtUZh7RBX"
      },
      "execution_count": null,
      "outputs": []
    },
    {
      "cell_type": "code",
      "source": [
        "z1=n2.issubset(n1)"
      ],
      "metadata": {
        "id": "aOWh21g47kh5"
      },
      "execution_count": null,
      "outputs": []
    },
    {
      "cell_type": "code",
      "source": [
        "z1"
      ],
      "metadata": {
        "colab": {
          "base_uri": "https://localhost:8080/"
        },
        "id": "8w4lmCDr7qSg",
        "outputId": "01133471-d335-484a-b770-24df1828b4ac"
      },
      "execution_count": null,
      "outputs": [
        {
          "output_type": "execute_result",
          "data": {
            "text/plain": [
              "True"
            ]
          },
          "metadata": {},
          "execution_count": 54
        }
      ]
    },
    {
      "cell_type": "code",
      "source": [
        "#9.Python Program to Add a Key-Value Pair to the Dictionary"
      ],
      "metadata": {
        "id": "hzz-dYxh7r2P"
      },
      "execution_count": null,
      "outputs": []
    },
    {
      "cell_type": "code",
      "source": [
        "d1={\"name\":\"Abhinand\",\"age\":21,\"class\":12}"
      ],
      "metadata": {
        "id": "_9q-jm1s74XM"
      },
      "execution_count": null,
      "outputs": []
    },
    {
      "cell_type": "code",
      "source": [
        "d1"
      ],
      "metadata": {
        "colab": {
          "base_uri": "https://localhost:8080/"
        },
        "id": "OkbT3_ER8HNH",
        "outputId": "ca641205-dcdd-4cd0-c4f1-ea72ed5c1879"
      },
      "execution_count": null,
      "outputs": [
        {
          "output_type": "execute_result",
          "data": {
            "text/plain": [
              "{'name': 'Abhinand', 'age': 21, 'class': 12}"
            ]
          },
          "metadata": {},
          "execution_count": 56
        }
      ]
    },
    {
      "cell_type": "code",
      "source": [
        "#10.Write a Python program to iteration over sets."
      ],
      "metadata": {
        "id": "I9yF0iO18IFv"
      },
      "execution_count": null,
      "outputs": []
    },
    {
      "cell_type": "code",
      "source": [
        "s4={1,2,3,4,5}\n",
        "for i in s4:\n",
        "  print(i)"
      ],
      "metadata": {
        "colab": {
          "base_uri": "https://localhost:8080/"
        },
        "id": "939EY3QY8i89",
        "outputId": "c88b7c84-24ec-4071-9055-98096eee8feb"
      },
      "execution_count": null,
      "outputs": [
        {
          "output_type": "stream",
          "name": "stdout",
          "text": [
            "1\n",
            "2\n",
            "3\n",
            "4\n",
            "5\n"
          ]
        }
      ]
    },
    {
      "cell_type": "code",
      "source": [
        "#11.Write a Python script to add a key to a dictionary."
      ],
      "metadata": {
        "id": "3Pnxx5md8qpy"
      },
      "execution_count": null,
      "outputs": []
    },
    {
      "cell_type": "code",
      "source": [
        "d1[\"place\"]=\"narikkuni\""
      ],
      "metadata": {
        "id": "ew6stYUY8wlY"
      },
      "execution_count": null,
      "outputs": []
    },
    {
      "cell_type": "code",
      "source": [
        "d1"
      ],
      "metadata": {
        "colab": {
          "base_uri": "https://localhost:8080/"
        },
        "id": "B9wIfcXV9Sae",
        "outputId": "e79a49f7-42a9-43f5-fa6a-4454c3275ad8"
      },
      "execution_count": null,
      "outputs": [
        {
          "output_type": "execute_result",
          "data": {
            "text/plain": [
              "{'name': 'Abhinand', 'age': 21, 'class': 12, 'place': 'narikkuni'}"
            ]
          },
          "metadata": {},
          "execution_count": 60
        }
      ]
    },
    {
      "cell_type": "code",
      "source": [
        "#12.Python Program to Remove the Given Key from a Dictionary"
      ],
      "metadata": {
        "id": "RIA3ZAkl9efX"
      },
      "execution_count": null,
      "outputs": []
    },
    {
      "cell_type": "code",
      "source": [
        "d2={\"name\":\"Abhinand\",\"age\":21,\"class\":1}"
      ],
      "metadata": {
        "id": "1cMaGlTj9lqB"
      },
      "execution_count": null,
      "outputs": []
    },
    {
      "cell_type": "code",
      "source": [
        "del d2[\"age\"]"
      ],
      "metadata": {
        "id": "ufUONNBr9xLG"
      },
      "execution_count": null,
      "outputs": []
    },
    {
      "cell_type": "code",
      "source": [
        "d2"
      ],
      "metadata": {
        "colab": {
          "base_uri": "https://localhost:8080/"
        },
        "id": "Uz_XawzT91-V",
        "outputId": "1e4e1eab-dce6-49c9-d648-46b0f6527238"
      },
      "execution_count": null,
      "outputs": [
        {
          "output_type": "execute_result",
          "data": {
            "text/plain": [
              "{'name': 'Abhinand', 'class': 1}"
            ]
          },
          "metadata": {},
          "execution_count": 63
        }
      ]
    },
    {
      "cell_type": "code",
      "source": [
        "#13.Write a Python program to check if two given sets have no elements in common."
      ],
      "metadata": {
        "id": "4v8OkUxy928u"
      },
      "execution_count": null,
      "outputs": []
    },
    {
      "cell_type": "code",
      "source": [
        "s11={1,2,3,4}\n",
        "s22={4,7,8,9,10}\n",
        "count=0\n",
        "for i in s11:\n",
        "  for j in s22:\n",
        "    if(i==j):\n",
        "      print(i)\n",
        "      count=count+1\n",
        "if(count==0):\n",
        " print(\"no duplication element\")\n",
        "else:\n",
        " print(count,\" duplication element\")"
      ],
      "metadata": {
        "colab": {
          "base_uri": "https://localhost:8080/"
        },
        "id": "Z_k90SRz97xk",
        "outputId": "4aad64aa-b9aa-494d-f0bb-3f5c69124cc6"
      },
      "execution_count": null,
      "outputs": [
        {
          "output_type": "stream",
          "name": "stdout",
          "text": [
            "4\n",
            "1  duplication element\n"
          ]
        }
      ]
    },
    {
      "cell_type": "code",
      "source": [
        "s11={1,2,3,4}\n",
        "s22={7,4,2,10}\n",
        "x=0\n",
        "for i in s11:\n",
        "  if(i in s22):\n",
        "    print(i)\n",
        "    x=x+1\n",
        "if(x==0):\n",
        "  print(\"no duplicate elements\")\n",
        "else:\n",
        "  print(x,\" duplication elements\")"
      ],
      "metadata": {
        "colab": {
          "base_uri": "https://localhost:8080/"
        },
        "id": "wW7LMrzKG5-A",
        "outputId": "b7c849d9-e48e-4041-aafe-12e7d90eed1a"
      },
      "execution_count": null,
      "outputs": [
        {
          "output_type": "stream",
          "name": "stdout",
          "text": [
            "2\n",
            "4\n",
            "2  duplication elements\n"
          ]
        }
      ]
    },
    {
      "cell_type": "code",
      "source": [
        "#14.Python Program to Sum All the Items in a Dictionary"
      ],
      "metadata": {
        "id": "OlYx60oF-Zxh"
      },
      "execution_count": null,
      "outputs": []
    },
    {
      "cell_type": "code",
      "source": [
        "d2"
      ],
      "metadata": {
        "colab": {
          "base_uri": "https://localhost:8080/"
        },
        "id": "MZtBJZYS-fx0",
        "outputId": "e1f0153e-bb10-4bcb-c610-12b6bc06832f"
      },
      "execution_count": null,
      "outputs": [
        {
          "output_type": "execute_result",
          "data": {
            "text/plain": [
              "{'name': 'Abhinand', 'class': 1}"
            ]
          },
          "metadata": {},
          "execution_count": 66
        }
      ]
    },
    {
      "cell_type": "code",
      "source": [
        "d3={\"abhi\":21,\"afnan\":21,\"ashif\":21,\"rahul\":21}"
      ],
      "metadata": {
        "id": "s1nMzCPZ_B0G"
      },
      "execution_count": null,
      "outputs": []
    },
    {
      "cell_type": "code",
      "source": [
        "print(sum(d3.values()))"
      ],
      "metadata": {
        "colab": {
          "base_uri": "https://localhost:8080/"
        },
        "id": "G4RMwDAD_D4g",
        "outputId": "e9a1f849-8ae4-4e65-ea4b-49de77df022b"
      },
      "execution_count": null,
      "outputs": [
        {
          "output_type": "stream",
          "name": "stdout",
          "text": [
            "84\n"
          ]
        }
      ]
    },
    {
      "cell_type": "code",
      "source": [
        "sum=0\n",
        "d3={\"abhi\":21,\"afnan\":21,\"ashif\":21,\"rahul\":21}\n",
        "for i in d3:\n",
        "  sum=sum+d3[i]\n",
        "print(sum)"
      ],
      "metadata": {
        "colab": {
          "base_uri": "https://localhost:8080/"
        },
        "id": "DTrpfDwgSOG_",
        "outputId": "f1e2428b-4ae3-4d14-d909-a17d9f0c7bc5"
      },
      "execution_count": null,
      "outputs": [
        {
          "output_type": "stream",
          "name": "stdout",
          "text": [
            "84\n"
          ]
        }
      ]
    },
    {
      "cell_type": "code",
      "source": [
        "#15.Python Program to Multiply All the Items in a Dictionary"
      ],
      "metadata": {
        "id": "MNf0vsOV_2EJ"
      },
      "execution_count": null,
      "outputs": []
    },
    {
      "cell_type": "code",
      "source": [
        "d3={\"abhi\":21,\"afnan\":21,\"ashif\":21,\"rahul\":21}"
      ],
      "metadata": {
        "id": "wczZavKQAcPY"
      },
      "execution_count": null,
      "outputs": []
    },
    {
      "cell_type": "code",
      "source": [
        "mul=1\n",
        "d3={\"abhi\":21,\"afnan\":21,\"ashif\":21,\"rahul\":21}\n",
        "for i in d3:\n",
        "  mul=mul*d3[i]\n",
        "print(mul)"
      ],
      "metadata": {
        "colab": {
          "base_uri": "https://localhost:8080/"
        },
        "id": "BozCwZXHMKnQ",
        "outputId": "d8368344-cd64-490f-826f-ce3f90f44231"
      },
      "execution_count": null,
      "outputs": [
        {
          "output_type": "stream",
          "name": "stdout",
          "text": [
            "194481\n"
          ]
        }
      ]
    },
    {
      "cell_type": "code",
      "source": [
        "21*21*21*21\n",
        "\n"
      ],
      "metadata": {
        "colab": {
          "base_uri": "https://localhost:8080/"
        },
        "id": "zaRJodC2MUWQ",
        "outputId": "752b40c6-bce8-47c1-8c3c-cd18bc75f035"
      },
      "execution_count": null,
      "outputs": [
        {
          "output_type": "execute_result",
          "data": {
            "text/plain": [
              "194481"
            ]
          },
          "metadata": {},
          "execution_count": 143
        }
      ]
    },
    {
      "cell_type": "code",
      "source": [],
      "metadata": {
        "colab": {
          "base_uri": "https://localhost:8080/"
        },
        "id": "Z5p9Y1YtMfHm",
        "outputId": "f663fc16-b057-4a1b-aaed-2dafce1fca33"
      },
      "execution_count": null,
      "outputs": [
        {
          "output_type": "execute_result",
          "data": {
            "text/plain": [
              "21"
            ]
          },
          "metadata": {},
          "execution_count": 138
        }
      ]
    },
    {
      "cell_type": "code",
      "source": [],
      "metadata": {
        "id": "9XMx5HuKN55C"
      },
      "execution_count": null,
      "outputs": []
    }
  ]
}