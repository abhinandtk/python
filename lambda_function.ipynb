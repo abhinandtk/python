{
  "nbformat": 4,
  "nbformat_minor": 0,
  "metadata": {
    "colab": {
      "provenance": [],
      "authorship_tag": "ABX9TyOYbn+HfMDlR5yopRCKxqs1",
      "include_colab_link": true
    },
    "kernelspec": {
      "name": "python3",
      "display_name": "Python 3"
    },
    "language_info": {
      "name": "python"
    }
  },
  "cells": [
    {
      "cell_type": "markdown",
      "metadata": {
        "id": "view-in-github",
        "colab_type": "text"
      },
      "source": [
        "<a href=\"https://colab.research.google.com/github/abhinandtk/python_data_types/blob/main/lambda_function.ipynb\" target=\"_parent\"><img src=\"https://colab.research.google.com/assets/colab-badge.svg\" alt=\"Open In Colab\"/></a>"
      ]
    },
    {
      "cell_type": "code",
      "execution_count": null,
      "metadata": {
        "colab": {
          "base_uri": "https://localhost:8080/"
        },
        "id": "tWkdkbkOg1J6",
        "outputId": "a6fc24f0-fd7d-4d4b-cce0-4152c7d417e1"
      },
      "outputs": [
        {
          "output_type": "stream",
          "name": "stdout",
          "text": [
            "24\n"
          ]
        }
      ],
      "source": [
        "l=lambda x:x*3            #lambda function\n",
        "print(l(8))"
      ]
    },
    {
      "cell_type": "code",
      "source": [
        "li=[1,2,3,4,5,6,7,8]\n",
        "list(filter(lambda x:x%2==0,li))     #filter function using lambda"
      ],
      "metadata": {
        "colab": {
          "base_uri": "https://localhost:8080/"
        },
        "id": "Slufdid9hIGn",
        "outputId": "4fdb3fae-c7fa-4f5e-941e-10d2a4d7bd8f"
      },
      "execution_count": null,
      "outputs": [
        {
          "output_type": "execute_result",
          "data": {
            "text/plain": [
              "[2, 4, 6, 8]"
            ]
          },
          "metadata": {},
          "execution_count": 2
        }
      ]
    },
    {
      "cell_type": "code",
      "source": [
        "li=[1,2,3,4,5,6,7,8]\n",
        "list(map(lambda x:x*x,li))          #map function using lambda"
      ],
      "metadata": {
        "colab": {
          "base_uri": "https://localhost:8080/"
        },
        "id": "P4_BY0IPhIUH",
        "outputId": "388ca750-d24c-46e9-ed69-cf889838d04f"
      },
      "execution_count": null,
      "outputs": [
        {
          "output_type": "execute_result",
          "data": {
            "text/plain": [
              "[1, 4, 9, 16, 25, 36, 49, 64]"
            ]
          },
          "metadata": {},
          "execution_count": 3
        }
      ]
    },
    {
      "cell_type": "code",
      "source": [
        "a=int(input(\"enter radius of the circle\"))\n",
        "x=lambda a:3.14*a*a                         #area of circle\n",
        "print(x(a))"
      ],
      "metadata": {
        "colab": {
          "base_uri": "https://localhost:8080/"
        },
        "id": "4YVCWx-xhIcE",
        "outputId": "6c139e4e-7c3c-478d-8cf9-cd686ce916b7"
      },
      "execution_count": null,
      "outputs": [
        {
          "output_type": "stream",
          "name": "stdout",
          "text": [
            "enter radius of the circle6\n",
            "113.03999999999999\n"
          ]
        }
      ]
    },
    {
      "cell_type": "code",
      "source": [
        "def area():\n",
        "  a=int(input(\"enter the radius of the circle to get circumference\"))\n",
        "  ar=2*3.14*a\n",
        "  return(ar)\n",
        "area()"
      ],
      "metadata": {
        "colab": {
          "base_uri": "https://localhost:8080/"
        },
        "id": "vTrqNxxThIe5",
        "outputId": "5314fc37-6955-4b09-94b8-870826566c34"
      },
      "execution_count": null,
      "outputs": [
        {
          "name": "stdout",
          "output_type": "stream",
          "text": [
            "enter the radius of the circle to get circumference4\n"
          ]
        },
        {
          "output_type": "execute_result",
          "data": {
            "text/plain": [
              "25.12"
            ]
          },
          "metadata": {},
          "execution_count": 5
        }
      ]
    },
    {
      "cell_type": "code",
      "source": [
        "def area():\n",
        "  a=int(input(\"enter the radius  to get circumference,area :\"))\n",
        "  ar=2*3.14*a\n",
        "  br=3.14*a*a\n",
        "  #return(ar,br)\n",
        "  print(\"circumference is\",ar)\n",
        "  print(\"area is \",br)\n",
        "area()"
      ],
      "metadata": {
        "colab": {
          "base_uri": "https://localhost:8080/"
        },
        "id": "s_E0IuW2hIi6",
        "outputId": "dfb80059-ce8b-4aec-fead-b4800e7afd3c"
      },
      "execution_count": null,
      "outputs": [
        {
          "output_type": "stream",
          "name": "stdout",
          "text": [
            "enter the radius  to get circumference,area :5\n",
            "circumference is 31.400000000000002\n",
            "area is  78.5\n"
          ]
        }
      ]
    },
    {
      "cell_type": "code",
      "source": [
        "def area():\n",
        "  a=int(input(\"enter the radius  to get circumference,area :\"))\n",
        "  ar=2*3.14*a\n",
        "  br=3.14*a*a\n",
        "  return(ar,br)\n",
        "x=area()\n",
        "print(x)"
      ],
      "metadata": {
        "colab": {
          "base_uri": "https://localhost:8080/"
        },
        "id": "PjFXbvb7hIk2",
        "outputId": "87f2ee45-0a42-498f-a4b6-8fe9b8dbe0c2"
      },
      "execution_count": null,
      "outputs": [
        {
          "output_type": "stream",
          "name": "stdout",
          "text": [
            "enter the radius  to get circumference,area :7\n",
            "(43.96, 153.86)\n"
          ]
        }
      ]
    },
    {
      "cell_type": "code",
      "source": [
        "def area(k):\n",
        "  a=int(input(\"enter the radius  to get circumference,area :\"))\n",
        "  br=3.14*a*a\n",
        "  return(br)\n",
        "def areas(c):\n",
        "    ar=2*3.14*a\n",
        "    return(ar)\n",
        "x=area(a)\n",
        "y=areas(a)\n",
        "print(\"circumference of the circle is :\",x)\n",
        "print(\"area of the circle is :\",y)"
      ],
      "metadata": {
        "colab": {
          "base_uri": "https://localhost:8080/"
        },
        "id": "QZqRIUwghIn8",
        "outputId": "6f0ecdcd-27fd-465b-b857-ea121f88f8e4"
      },
      "execution_count": null,
      "outputs": [
        {
          "output_type": "stream",
          "name": "stdout",
          "text": [
            "enter the radius  to get circumference,area :5\n",
            "circumference of the circle is : 78.5\n",
            "area of the circle is : 37.68\n"
          ]
        }
      ]
    },
    {
      "cell_type": "code",
      "source": [],
      "metadata": {
        "id": "zLPIYxWrypfR"
      },
      "execution_count": null,
      "outputs": []
    }
  ]
}