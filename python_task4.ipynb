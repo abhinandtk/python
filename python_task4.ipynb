{
  "nbformat": 4,
  "nbformat_minor": 0,
  "metadata": {
    "colab": {
      "provenance": [],
      "authorship_tag": "ABX9TyNCabKnbGOgQPYo5aJgPYSk",
      "include_colab_link": true
    },
    "kernelspec": {
      "name": "python3",
      "display_name": "Python 3"
    },
    "language_info": {
      "name": "python"
    }
  },
  "cells": [
    {
      "cell_type": "markdown",
      "metadata": {
        "id": "view-in-github",
        "colab_type": "text"
      },
      "source": [
        "<a href=\"https://colab.research.google.com/github/abhinandtk/python_data_types/blob/main/python_task4.ipynb\" target=\"_parent\"><img src=\"https://colab.research.google.com/assets/colab-badge.svg\" alt=\"Open In Colab\"/></a>"
      ]
    },
    {
      "cell_type": "markdown",
      "source": [
        "1. Write a program in Python to display the Factorial of a number."
      ],
      "metadata": {
        "id": "WPNbomhExWwA"
      }
    },
    {
      "cell_type": "code",
      "source": [
        "a=int(input(\"enter factorial number\"))\n",
        "fact=1\n",
        "for i in range(1,a+1):\n",
        " fact=fact*i\n",
        "print(\"factorial of\",a,\"is\",fact)"
      ],
      "metadata": {
        "colab": {
          "base_uri": "https://localhost:8080/"
        },
        "id": "xjbg281ZxZze",
        "outputId": "e3736036-a862-455b-e03e-08d65389b3aa"
      },
      "execution_count": null,
      "outputs": [
        {
          "output_type": "stream",
          "name": "stdout",
          "text": [
            "enter factorial number5\n",
            "factorial of 5 is 120\n"
          ]
        }
      ]
    },
    {
      "cell_type": "markdown",
      "source": [
        "2.Write a program in Python to reverse a word."
      ],
      "metadata": {
        "id": "4WRTPZuxzDxV"
      }
    },
    {
      "cell_type": "code",
      "source": [
        "d=[]\n",
        "b=(input(\"enter the string to reverse :\"))\n",
        "c=len(b)\n",
        "for i in range(c-1,-1,-1):\n",
        "  d.append(b[i])\n",
        "print(d)\n"
      ],
      "metadata": {
        "colab": {
          "base_uri": "https://localhost:8080/"
        },
        "id": "A-_Dd7pozGgt",
        "outputId": "ac63d635-445c-4b53-ae19-0612924563c5"
      },
      "execution_count": null,
      "outputs": [
        {
          "output_type": "stream",
          "name": "stdout",
          "text": [
            "enter the string to reverse :hai\n",
            "['i', 'a', 'h']\n"
          ]
        }
      ]
    },
    {
      "cell_type": "code",
      "source": [
        "txt=(input(\"enter a string :\"))\n",
        "n=txt[::-1]\n",
        "print(n)"
      ],
      "metadata": {
        "colab": {
          "base_uri": "https://localhost:8080/"
        },
        "id": "08t6inwv1ug9",
        "outputId": "fb27f696-9a78-4235-b813-7bf5b6d7ce08"
      },
      "execution_count": null,
      "outputs": [
        {
          "output_type": "stream",
          "name": "stdout",
          "text": [
            "enter a string :hai\n",
            "iah\n"
          ]
        }
      ]
    },
    {
      "cell_type": "markdown",
      "source": [
        "3.Write a Python program to reverse a number."
      ],
      "metadata": {
        "id": "yip1H8VBDgnt"
      }
    },
    {
      "cell_type": "code",
      "source": [
        "n=(input(\"enter a number :\"))\n",
        "s=n[::-1]\n",
        "print(s)"
      ],
      "metadata": {
        "colab": {
          "base_uri": "https://localhost:8080/"
        },
        "id": "Flg67-t3Di39",
        "outputId": "26af8e43-1bc6-4c8b-a210-059c2ff41d92"
      },
      "execution_count": null,
      "outputs": [
        {
          "output_type": "stream",
          "name": "stdout",
          "text": [
            "enter a number :479\n",
            "974\n"
          ]
        }
      ]
    },
    {
      "cell_type": "markdown",
      "source": [
        "4.Write a program to print n natural number in descending order using a while loop."
      ],
      "metadata": {
        "id": "Ur69lmB3EDxS"
      }
    },
    {
      "cell_type": "code",
      "source": [
        "a=int(input(\"enter limit of the natural numbers\"))\n",
        "while (a>=0):\n",
        "  print(a)\n",
        "  a=a-1"
      ],
      "metadata": {
        "colab": {
          "base_uri": "https://localhost:8080/"
        },
        "id": "mR7kAxoLEIft",
        "outputId": "3bde10b4-4f31-4af3-9dd0-46b0e7348d63"
      },
      "execution_count": null,
      "outputs": [
        {
          "output_type": "stream",
          "name": "stdout",
          "text": [
            "enter limit of the natural numbers5\n",
            "5\n",
            "4\n",
            "3\n",
            "2\n",
            "1\n",
            "0\n"
          ]
        }
      ]
    },
    {
      "cell_type": "markdown",
      "source": [
        "5.Write a program to display the first 7 multiples of 7."
      ],
      "metadata": {
        "id": "WDmf9tlgEl1Y"
      }
    },
    {
      "cell_type": "code",
      "source": [
        "for i in range(1,8):\n",
        "  b=i*7\n",
        "  print(i,\"*7=\",b)"
      ],
      "metadata": {
        "colab": {
          "base_uri": "https://localhost:8080/"
        },
        "id": "y3eU74S0Jl7p",
        "outputId": "76d911b3-9437-44e0-d59f-3cb1663b420f"
      },
      "execution_count": null,
      "outputs": [
        {
          "output_type": "stream",
          "name": "stdout",
          "text": [
            "1 *7= 7\n",
            "2 *7= 14\n",
            "3 *7= 21\n",
            "4 *7= 28\n",
            "5 *7= 35\n",
            "6 *7= 42\n",
            "7 *7= 49\n"
          ]
        }
      ]
    },
    {
      "cell_type": "markdown",
      "source": [
        "6.Write a program that appends the square of each number to a new list."
      ],
      "metadata": {
        "id": "ApVU94VCK3wz"
      }
    },
    {
      "cell_type": "code",
      "source": [
        "li=[]\n",
        "a=int(input(\"enter how many numbers\"))\n",
        "for i in range(0,a):\n",
        " b=int(input(\"enter the number\"))\n",
        " c=b**2\n",
        " li.append(c)\n",
        "print(li)"
      ],
      "metadata": {
        "colab": {
          "base_uri": "https://localhost:8080/"
        },
        "id": "oOt4m9ktK6jC",
        "outputId": "f8fe15b0-2341-4b95-9361-8da2ac2a7354"
      },
      "execution_count": null,
      "outputs": [
        {
          "output_type": "stream",
          "name": "stdout",
          "text": [
            "enter how many numbers4\n",
            "enter the number1\n",
            "enter the number2\n",
            "enter the number3\n",
            "enter the number4\n",
            "[1, 4, 9, 16]\n"
          ]
        }
      ]
    },
    {
      "cell_type": "markdown",
      "source": [
        "7.WAP to separate positive and negative number from a list."
      ],
      "metadata": {
        "id": "jZFfXZf6NpA5"
      }
    },
    {
      "cell_type": "code",
      "source": [
        "n=[]\n",
        "p=[]\n",
        "li=[1,-2,8,-8,9,]\n",
        "l=len(li)\n",
        "for i in li:\n",
        "  if(i>0):\n",
        "    p.append(i)\n",
        "  elif(i<0):\n",
        "    n.append(i)\n",
        "print(p,\"are positive numbers\")\n",
        "print(n,\"are negative numbers\")\n"
      ],
      "metadata": {
        "colab": {
          "base_uri": "https://localhost:8080/"
        },
        "id": "QVPKW7HuOAmA",
        "outputId": "3910d391-56ba-4f9b-8f9d-c1fa7eb60b7b"
      },
      "execution_count": null,
      "outputs": [
        {
          "output_type": "stream",
          "name": "stdout",
          "text": [
            "[1, 8, 9] are positive numbers\n",
            "[-2, -8] are negative numbers\n"
          ]
        }
      ]
    },
    {
      "cell_type": "markdown",
      "source": [
        "8.Write a program that appends the type of elements from a list."
      ],
      "metadata": {
        "id": "y_r75vlhQlWU"
      }
    },
    {
      "cell_type": "code",
      "source": [
        "li=[1,\"hai\",8,\"hello\"]\n",
        "l=[]\n",
        "for i in li:\n",
        "  l.append(type(i))\n",
        "print(l)"
      ],
      "metadata": {
        "colab": {
          "base_uri": "https://localhost:8080/"
        },
        "id": "EfV5dqJdQppX",
        "outputId": "ddd5240b-27a2-493b-f403-9f7c79c43bb7"
      },
      "execution_count": null,
      "outputs": [
        {
          "output_type": "stream",
          "name": "stdout",
          "text": [
            "[<class 'int'>, <class 'str'>, <class 'int'>, <class 'str'>]\n"
          ]
        }
      ]
    },
    {
      "cell_type": "markdown",
      "source": [
        "9.Write a program to filter even and odd number from a list."
      ],
      "metadata": {
        "id": "QB9lCeaBSTBt"
      }
    },
    {
      "cell_type": "code",
      "source": [
        "n=[]\n",
        "p=[]\n",
        "li=[1,2,5,6,8,9]\n",
        "l=len(li)\n",
        "for i in li:\n",
        "  if(i%2==0):\n",
        "    p.append(i)\n",
        "  elif(i%2!=0):\n",
        "    n.append(i)\n",
        "print(p,\"are even  numbers\")\n",
        "print(n,\"are odd numbers\")\n"
      ],
      "metadata": {
        "colab": {
          "base_uri": "https://localhost:8080/"
        },
        "id": "VZrremiGSVMP",
        "outputId": "1c62a208-f78a-459b-9316-2b6a391e1b37"
      },
      "execution_count": null,
      "outputs": [
        {
          "output_type": "stream",
          "name": "stdout",
          "text": [
            "[2, 6, 8] are even  numbers\n",
            "[1, 5, 9] are odd numbers\n"
          ]
        }
      ]
    },
    {
      "cell_type": "markdown",
      "source": [
        "10.Write a program to fetch only even values from a dictionary."
      ],
      "metadata": {
        "id": "KralQTodS4tU"
      }
    },
    {
      "cell_type": "code",
      "source": [
        "di={\"a\":1,\"b\":2,\"c\":3,\"d\":4,\"e\":5}\n",
        "for i in di:\n",
        "  if(di[i]%2==0):\n",
        "   print(di[i])"
      ],
      "metadata": {
        "colab": {
          "base_uri": "https://localhost:8080/"
        },
        "id": "ehJLuwvRS8K6",
        "outputId": "8ac4c41b-42ec-4d7a-cf3e-21e535261bb2"
      },
      "execution_count": null,
      "outputs": [
        {
          "output_type": "stream",
          "name": "stdout",
          "text": [
            "2\n",
            "4\n"
          ]
        }
      ]
    },
    {
      "cell_type": "code",
      "source": [],
      "metadata": {
        "id": "zeYDF1zhUDvL"
      },
      "execution_count": null,
      "outputs": []
    }
  ]
}