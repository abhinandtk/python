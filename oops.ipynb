{
  "nbformat": 4,
  "nbformat_minor": 0,
  "metadata": {
    "colab": {
      "provenance": [],
      "authorship_tag": "ABX9TyOXRMNuXR8AznttRyLQ6lGU",
      "include_colab_link": true
    },
    "kernelspec": {
      "name": "python3",
      "display_name": "Python 3"
    },
    "language_info": {
      "name": "python"
    }
  },
  "cells": [
    {
      "cell_type": "markdown",
      "metadata": {
        "id": "view-in-github",
        "colab_type": "text"
      },
      "source": [
        "<a href=\"https://colab.research.google.com/github/abhinandtk/python/blob/main/oops.ipynb\" target=\"_parent\"><img src=\"https://colab.research.google.com/assets/colab-badge.svg\" alt=\"Open In Colab\"/></a>"
      ]
    },
    {
      "cell_type": "code",
      "execution_count": null,
      "metadata": {
        "colab": {
          "base_uri": "https://localhost:8080/"
        },
        "id": "OGFCBhaVWTr1",
        "outputId": "262f31e3-e1ed-462d-946d-755ab97178c5"
      },
      "outputs": [
        {
          "output_type": "stream",
          "name": "stdout",
          "text": [
            "Rodger is a mammal\n",
            "Tommy is also a mammal\n",
            "My name is Rodger\n",
            "My name is Tommy\n"
          ]
        }
      ],
      "source": [
        "class Dog:\n",
        "    attr1 = \"mammal\"\n",
        "    def __init__(self, name):\n",
        "        self.name = name\n",
        "Rodger = Dog(\"Rodger\")\n",
        "Tommy = Dog(\"Tommy\")\n",
        "print(\"Rodger is a {}\".format(Rodger.__class__.attr1))\n",
        "print(\"Tommy is also a {}\".format(Tommy.__class__.attr1))\n",
        "print(\"My name is {}\".format(Rodger.name))\n",
        "print(\"My name is {}\".format(Tommy.name))"
      ]
    },
    {
      "cell_type": "code",
      "source": [
        "class Parrot:\n",
        "   species=\"bird\"\n",
        "   def __init__(self,name,age):\n",
        "    self.name=name\n",
        "    self.age=age\n",
        "blu=Parrot (\"blu\",10)\n",
        "woo=Parrot (\"woo\",15)\n",
        "print(\"blu is a {}\".format(blu.__class__.species))\n",
        "print(\"Woo is also a {}\".format(woo.__class__.species))\n",
        "print(\"{} is {} years old\".format(blu.name,blu.age))\n",
        "print(\"{} is {} years old\".format(woo.name,woo.age))"
      ],
      "metadata": {
        "colab": {
          "base_uri": "https://localhost:8080/"
        },
        "id": "tmB4o9d1Ys0j",
        "outputId": "ec896343-593f-415d-a19a-fb06f7345efc"
      },
      "execution_count": null,
      "outputs": [
        {
          "output_type": "stream",
          "name": "stdout",
          "text": [
            "blu is a bird\n",
            "Woo is also a bird\n",
            "blu is 10 years old\n",
            "woo is 15 years old\n"
          ]
        }
      ]
    },
    {
      "cell_type": "code",
      "source": [
        "class Parrot:\n",
        "  species =\"bird\"\n",
        "  def __init__ (self, name, age):\n",
        "    self.name= name\n",
        "    self.age= age\n",
        "\n",
        "blu =Parrot (\"Blu\", 10)\n",
        "woo= Parrot (\"woo\", 15)\n",
        "print(\"Blu is a {}\".format(blu.__class__.species))\n",
        "print(\"woo is a {}\".format(woo.__class__.species))\n",
        "\n",
        "print(\"{} is {} years old\".format( blu.name, blu.age))\n",
        "print(\"{} is {} years old\".format(woo.name, woo.age))"
      ],
      "metadata": {
        "colab": {
          "base_uri": "https://localhost:8080/"
        },
        "id": "25UxVbPtpy9P",
        "outputId": "6a7fc0f0-489f-48c9-a62e-cbae13a52ad7"
      },
      "execution_count": null,
      "outputs": [
        {
          "output_type": "stream",
          "name": "stdout",
          "text": [
            "Blu is a bird\n",
            "woo is a bird\n",
            "Blu is 10 years old\n",
            "woo is 15 years old\n"
          ]
        }
      ]
    },
    {
      "cell_type": "code",
      "source": [
        "class Parrot:\n",
        "  def __init__ (self, name, age):\n",
        "    self.name = name\n",
        "    self.age = age\n",
        "#instance method\n",
        "  def sing(self, song):\n",
        "    return \" {} sings {}\".format(self.name,song)\n",
        "  def dance(self):\n",
        "    return \" {} is now dancing\".format(self.name)\n",
        "  def age(self):\n",
        "    return \"age is {}\".format(self.age)\n",
        "\n",
        "# instantiate the object\n",
        "blu=Parrot(\"blu\",10)\n",
        "# call our instance methods\n",
        "print(blu. sing( \"  Happy  \" ) )\n",
        "print(blu. dance ( ) )\n",
        "print(blu.age)\n",
        "red=Parrot ( \"red\" , 20)\n",
        "print(red. sing(\"  Happy ' \" ) )\n",
        "print (red. dance ( ) )\n",
        "print(red. age)\n",
        "\n",
        "\n",
        "\n",
        "\n",
        "\n",
        "\n"
      ],
      "metadata": {
        "id": "ZutpNfEl1EKp",
        "colab": {
          "base_uri": "https://localhost:8080/"
        },
        "outputId": "4d05eff2-feea-4acb-d19a-2df74600c024"
      },
      "execution_count": null,
      "outputs": [
        {
          "output_type": "stream",
          "name": "stdout",
          "text": [
            " blu sings   Happy  \n",
            " blu is now dancing\n",
            "10\n",
            " red sings   Happy ' \n",
            " red is now dancing\n",
            "20\n"
          ]
        }
      ]
    },
    {
      "cell_type": "code",
      "source": [
        "class Parrot:\n",
        "\n",
        "  def fly(self):\n",
        "    print(\"Parrot can fly\")\n",
        "  def swim(self):\n",
        "     print(\"Parrot can't swim\")\n",
        "\n",
        "class Penguin:\n",
        "  def fly(self):\n",
        "    print(\"Penguin can't fly\")\n",
        "  def swim(self):\n",
        "    print(\"Penguin can swim\")\n",
        "# common interface\n",
        "def flying_test (bird):\n",
        "  bird.fly()\n",
        "def swim_test(bird):\n",
        "  bird.swim()\n",
        "  #instantiate objects\n",
        "blu=Parrot()\n",
        "peggy=Penguin()\n",
        "\n",
        "# passing the object flying_test(blu). flying_test(peggy)\n",
        "swim_test(blu)\n",
        "swim_test(peggy)\n",
        "flying_test(peggy)\n",
        "flying_test(blu)"
      ],
      "metadata": {
        "colab": {
          "base_uri": "https://localhost:8080/"
        },
        "id": "CsscBwfBI7QG",
        "outputId": "711473f0-48b9-4e27-a504-e9829b434526"
      },
      "execution_count": null,
      "outputs": [
        {
          "output_type": "stream",
          "name": "stdout",
          "text": [
            "Parrot can't swim\n",
            "Penguin can swim\n",
            "Penguin can't fly\n",
            "Parrot can fly\n"
          ]
        }
      ]
    },
    {
      "cell_type": "code",
      "source": [
        "class Person:\n",
        "    def __init__(self, name, sex, profession):\n",
        "        # data members (instance variables)\n",
        "        self.name = name\n",
        "        self.sex = sex\n",
        "        self.profession = profession\n",
        "\n",
        "    # Behavior (instance methods)\n",
        "    def show(self):\n",
        "        print('Name:', self.name)\n",
        "        print('Sex:', self.sex)\n",
        "        print('Profession:', self.profession)\n",
        "\n",
        "    # Behavior (instance methods)\n",
        "rolex = Person('Jessa', 'Female', 'Software Engineer')\n",
        "dilli= Person ('Afnan','Male','Footballer')\n",
        "rolex.show()\n",
        "dilli.show()"
      ],
      "metadata": {
        "colab": {
          "base_uri": "https://localhost:8080/"
        },
        "id": "f6OZ6uCcRpRf",
        "outputId": "4957c558-707c-433c-e1c9-37f4076980c3"
      },
      "execution_count": null,
      "outputs": [
        {
          "output_type": "stream",
          "name": "stdout",
          "text": [
            "Name: Jessa\n",
            "Sex: Female\n",
            "Profession: Software Engineer\n",
            "Name: Afnan\n",
            "Sex: Male\n",
            "Profession: Footballer\n"
          ]
        }
      ]
    },
    {
      "cell_type": "code",
      "source": [
        "class College:\n",
        " def __init__(self,name,clas,collegename):\n",
        "      self.name=name\n",
        "      self.clas=clas\n",
        "      self.collegename=collegename\n",
        " def hel(self):\n",
        "      print(self.name,self.clas,self.collegename)\n",
        "one=College('Afnan','bca','ihrd')\n",
        "two=College('Rahul','bca','ihrd')\n",
        "one.hel()\n",
        "two.hel()"
      ],
      "metadata": {
        "colab": {
          "base_uri": "https://localhost:8080/"
        },
        "id": "JxvhV2CvY23g",
        "outputId": "177c56c4-bf0d-4cf5-bff3-ed1e5f5c2acd"
      },
      "execution_count": null,
      "outputs": [
        {
          "output_type": "stream",
          "name": "stdout",
          "text": [
            "Afnan bca ihrd\n",
            "Rahul bca ihrd\n"
          ]
        }
      ]
    },
    {
      "cell_type": "code",
      "source": [
        "class Student:\n",
        "    def __init__(self, name, age):\n",
        "        self.name = name\n",
        "        self.age = age\n",
        "\n",
        "s1 = Student(\"Harry\", 12)\n",
        "print(s1.name, s1.age)\n",
        "s2=Student('Afnan',21)\n",
        "print(s2.name,s2.age)\n",
        "Student.school_name='Ihrd'\n",
        "print(Student.school_name)"
      ],
      "metadata": {
        "colab": {
          "base_uri": "https://localhost:8080/"
        },
        "id": "3QsokkC6dSIT",
        "outputId": "bd1ec93c-3115-46a6-cea9-3940a827e90c"
      },
      "execution_count": null,
      "outputs": [
        {
          "output_type": "stream",
          "name": "stdout",
          "text": [
            "Harry 12\n",
            "Afnan 21\n",
            "Ihrd\n"
          ]
        }
      ]
    },
    {
      "cell_type": "code",
      "source": [
        "class Student:\n",
        "    school_name='Ihrd'\n",
        "    def __init__(self, name, age):\n",
        "        self.name = name\n",
        "        self.age = age\n",
        "    def hel(self):\n",
        "      print(self.name,self.age,Student.school_name)\n",
        "one=Student('Afnan',21)\n",
        "one.hel()"
      ],
      "metadata": {
        "colab": {
          "base_uri": "https://localhost:8080/"
        },
        "id": "rdxME7zogwv9",
        "outputId": "65ba4004-0bd6-4b4a-a5f1-07b475ab4a41"
      },
      "execution_count": null,
      "outputs": [
        {
          "output_type": "stream",
          "name": "stdout",
          "text": [
            "Afnan 21 Ihrd\n"
          ]
        }
      ]
    },
    {
      "cell_type": "code",
      "source": [
        "class Vehicle:\n",
        "    def Vehicle_info(self):\n",
        "        print('Inside Vehicle class')\n",
        "class Car(Vehicle):\n",
        "    def car_info(self):\n",
        "        print('Inside Car class')\n",
        "car = Car()\n",
        "car.Vehicle_info()\n",
        "car.car_info()"
      ],
      "metadata": {
        "id": "VmFj3cz9lYKj",
        "colab": {
          "base_uri": "https://localhost:8080/"
        },
        "outputId": "6bd78e24-baa7-45fa-e1af-4d0798f4a444"
      },
      "execution_count": null,
      "outputs": [
        {
          "output_type": "stream",
          "name": "stdout",
          "text": [
            "Inside Vehicle class\n",
            "Inside Car class\n"
          ]
        }
      ]
    },
    {
      "cell_type": "code",
      "source": [
        "class Vehicle:\n",
        "    def info(self):\n",
        "        print(\"This is Vehicle\")\n",
        "\n",
        "class Car(Vehicle):\n",
        "    def car_info(self, name):\n",
        "        print(\"Car name is:\", name)\n",
        "\n",
        "class Truck(Vehicle):\n",
        "    def truck_info(self, name):\n",
        "        print(\"Truck name is:\", name)\n",
        "\n",
        "obj1 = Car()\n",
        "obj1.info()\n",
        "obj1.car_info('BMW')\n",
        "\n",
        "obj2 = Truck()\n",
        "obj2.info()\n",
        "obj2.truck_info('Ford')"
      ],
      "metadata": {
        "colab": {
          "base_uri": "https://localhost:8080/"
        },
        "id": "J31-_JCFIsWU",
        "outputId": "96c98ae3-393d-4c2e-d780-6c0ea0bc3eda"
      },
      "execution_count": null,
      "outputs": [
        {
          "output_type": "stream",
          "name": "stdout",
          "text": [
            "This is Vehicle\n",
            "Car name is: BMW\n",
            "This is Vehicle\n",
            "Truck name is: Ford\n"
          ]
        }
      ]
    },
    {
      "cell_type": "code",
      "source": [
        "#inheritance\n",
        "class Bird:\n",
        "  def __init__(self):\n",
        "    print(\"Bird is ready\")\n",
        "  def whoisThis(self):\n",
        "    print(\"Bird\")\n",
        "  def swim(self):\n",
        "    print(\"swim faster\")\n",
        "\n",
        "#child class\n",
        "class Penguin(Bird):\n",
        "  def __init__(self):\n",
        "    super().__init__()\n",
        "    print(\"Penguin is ready\")\n",
        "  def whoisThis(self):\n",
        "     print(\"Penguin\")\n",
        "  def run(self):\n",
        "     print(\"Run faster\")\n",
        "peggy=Penguin()\n",
        "peggy.whoisThis()\n",
        "peggy.swim()\n",
        "peggy.run()"
      ],
      "metadata": {
        "colab": {
          "base_uri": "https://localhost:8080/"
        },
        "id": "4i9LTW_MLGgQ",
        "outputId": "d6650eb2-96f4-489f-b89b-81cac6104eea"
      },
      "execution_count": null,
      "outputs": [
        {
          "output_type": "stream",
          "name": "stdout",
          "text": [
            "Bird is ready\n",
            "Penguin is ready\n",
            "Penguin\n",
            "swim faster\n",
            "Run faster\n"
          ]
        }
      ]
    },
    {
      "cell_type": "code",
      "source": [
        "#Inheritance\n",
        "\n",
        "# parent class\n",
        "class Bird:\n",
        "  def __init__(self,name,age):\n",
        "     self.names=name\n",
        "     self.ages=age\n",
        "  def WhoisThis(self):\n",
        "    print(self.names,self.ages)\n",
        "\n",
        "peggy=Bird(\"afnan\",23)\n",
        "swam=Bird(\"rahul\",14)\n",
        "peggy.WhoisThis()\n",
        "swam.WhoisThis()"
      ],
      "metadata": {
        "colab": {
          "base_uri": "https://localhost:8080/"
        },
        "id": "_d4D5cVQR3qN",
        "outputId": "7117bef5-00e0-4363-fb81-8e7755a3c647"
      },
      "execution_count": null,
      "outputs": [
        {
          "output_type": "stream",
          "name": "stdout",
          "text": [
            "afnan 23\n",
            "rahul 14\n"
          ]
        }
      ]
    },
    {
      "cell_type": "code",
      "source": [
        "class Computer:\n",
        "  def __init__(self):\n",
        "    self.__maxprice=900\n",
        "  def sell(self):\n",
        "    print(\"Selling price :{}\".format(self.__maxprice))\n",
        "  def SetMaxprice(self,price):\n",
        "    self.__maxprice=price\n",
        "c=Computer()\n",
        "c.sell()\n",
        "\n",
        "c.__maxprice=1000\n",
        "c.sell()\n",
        "\n",
        "c.SetMaxprice(1000)\n",
        "c.sell()"
      ],
      "metadata": {
        "id": "Qq3ZiYvhR-az",
        "colab": {
          "base_uri": "https://localhost:8080/"
        },
        "outputId": "af56e9d0-bba5-44da-8c42-6390e7f10a31"
      },
      "execution_count": null,
      "outputs": [
        {
          "output_type": "stream",
          "name": "stdout",
          "text": [
            "Selling price :900\n",
            "Selling price :900\n",
            "Selling price :1000\n"
          ]
        }
      ]
    },
    {
      "cell_type": "code",
      "source": [
        "class Computer:\n",
        "  def __init__(self):\n",
        "    self.__maxprice=900\n",
        "  def sell(self):\n",
        "    print(\"Selling price :{}\".format(self.__maxprice))\n",
        "  def SetMaxprice(self,price):\n",
        "    s=999\n",
        "    ps=int(input(\"enter a password\"))\n",
        "    if(s==ps):\n",
        "     self.__maxprice=price\n",
        "    else:\n",
        "      print\n",
        "c=Computer()\n",
        "c.sell()\n",
        "\n",
        "c.__maxprice=1000\n",
        "c.sell()\n",
        "\n",
        "c.SetMaxprice(1000)\n",
        "c.sell()"
      ],
      "metadata": {
        "colab": {
          "base_uri": "https://localhost:8080/"
        },
        "id": "MIWk0ewUguUj",
        "outputId": "0734ca44-eeea-4233-fbca-01e5e4dd7f76"
      },
      "execution_count": null,
      "outputs": [
        {
          "output_type": "stream",
          "name": "stdout",
          "text": [
            "Selling price :900\n",
            "Selling price :900\n",
            "enter a password999\n",
            "Selling price :1000\n"
          ]
        }
      ]
    },
    {
      "cell_type": "code",
      "source": [
        "class Student:\n",
        "  def __init__(self):\n",
        "    self.__price=500\n",
        "  def change(self):\n",
        "    password=123\n",
        "    a=int(input(\"enter your password\"))\n",
        "    if(a==password):\n",
        "      print(\"your password is correct\")\n",
        "      print(\"change password press 1,update price press 2\")\n",
        "      b=int(input(\"enter the value\"))\n",
        "      if(b==1):\n",
        "        c=int(input(\"enter your new  password: \"))\n",
        "        password=c\n",
        "        print(\"your new password is: \",password)\n",
        "      elif(b==2):\n",
        "        d=int(input(\"enter your new price :\"))\n",
        "        self.__price=d\n",
        "        print(\"your new price is: \",self.__price)\n",
        "    else:\n",
        "      print(\"your password is incorrect\")\n",
        "      e=int(input(\"press 3 for forgot password\"))\n",
        "      if(e==3):\n",
        "        email=\"abhinandtk69@gmail.com\"\n",
        "        f=(input(\"enter your email address :\"))\n",
        "        if(f==email):\n",
        "          g=int(input(\"enter new password\"))\n",
        "          password=g\n",
        "          print(\"your new password is \",password)\n",
        "        else:\n",
        "          print(\"your email is incorrect\")\n",
        "      else:\n",
        "        print(\"your email is not correct\")\n",
        "\n",
        "hel=Student()\n",
        "hel.change()\n"
      ],
      "metadata": {
        "colab": {
          "base_uri": "https://localhost:8080/"
        },
        "id": "sXi551Jt0xyt",
        "outputId": "0a93e252-6487-4aa1-f48c-26d3dbdbb164"
      },
      "execution_count": null,
      "outputs": [
        {
          "output_type": "stream",
          "name": "stdout",
          "text": [
            "enter your password1\n",
            "your password is incorrect\n",
            "press 3 for forgot password3\n",
            "enter your email address :htdft\n",
            "your email is incorrect\n"
          ]
        }
      ]
    },
    {
      "cell_type": "code",
      "source": [
        "class Login:\n",
        "  def __init__(self):\n",
        "    print(\"Login Page\")\n",
        "    self.__username=\"\"\n",
        "    self.__username=\"abhinand\"\n",
        "    self.__password=\"12345\"\n",
        "  def log(self):\n",
        "    print(self.__username)\n",
        "    a=(input(\"enter your username: \"))\n",
        "    b=(input(\"enter your password\"))\n",
        "    if(self.__username==a and self.__password==b):\n",
        "      print(\"you are logged in\")\n",
        "    elif(self.__username==a and self.__password!=b):\n",
        "     print(\"invalid password\")                                      #encapsulation\n",
        "     c=int(input(\"press 1 for forgot password\"))\n",
        "     if(c==1):\n",
        "      d=input(\"enter your new password\")\n",
        "      print(\"your new password is:\",d)\n",
        "    elif(self.__username!=a and self.__password==b):\n",
        "     print(\"invalid username\")\n",
        "    elif(self.__username!=a and self.__password!=b):\n",
        "     print(\"invalid username and password\")\n",
        "c=Login()\n",
        "c.log()"
      ],
      "metadata": {
        "colab": {
          "base_uri": "https://localhost:8080/"
        },
        "id": "w1iUPPxs2rpG",
        "outputId": "ea542367-c23e-4b9c-bf12-6068c19e2d94"
      },
      "execution_count": null,
      "outputs": [
        {
          "output_type": "stream",
          "name": "stdout",
          "text": [
            "Login Page\n",
            "abhinand\n",
            "enter your username: abhinand\n",
            "enter your password12345\n",
            "you are logged in\n"
          ]
        }
      ]
    },
    {
      "cell_type": "code",
      "source": [
        "from abc import ABC,abstractmethod\n",
        "class Vehicle(ABC):\n",
        "  @abstractmethod\n",
        "  def changegear(self):\n",
        "    pass\n",
        "class Car(Vehicle):\n",
        "  def changegear(self):\n",
        "    print(\"change gear automatically\")\n",
        "class Truck(Vehicle):\n",
        "  def changegear(self):\n",
        "    print(\"change gear manually\")\n",
        "c=Car()\n",
        "t=Truck()\n",
        "c.changegear()\n",
        "t.changegear()\n",
        "\n"
      ],
      "metadata": {
        "id": "IXEJRNpSEeHj",
        "colab": {
          "base_uri": "https://localhost:8080/"
        },
        "outputId": "01645400-0630-4276-f55b-2b77bde43059"
      },
      "execution_count": null,
      "outputs": [
        {
          "output_type": "stream",
          "name": "stdout",
          "text": [
            "change gear automatically\n",
            "change gear manually\n"
          ]
        }
      ]
    },
    {
      "cell_type": "code",
      "source": [
        "class Vehicle:\n",
        "\n",
        " def changegear(self):\n",
        "  print(\"hello world\")\n",
        "  pass\n",
        "\n",
        "class Car(Vehicle):\n",
        "   def changegear(self):\n",
        "    print(\"change gear automatically\")\n",
        "class Truck(Vehicle):\n",
        "   def changegear(self):\n",
        "    print(\"change gear manually\")\n",
        "c=Car()\n",
        "t=Truck()\n",
        "c.changegear()\n",
        "t.changegear()"
      ],
      "metadata": {
        "colab": {
          "base_uri": "https://localhost:8080/"
        },
        "id": "5GW4ircpAZ5m",
        "outputId": "9b2bf86a-90c1-4eed-f8a6-da19800b8f18"
      },
      "execution_count": null,
      "outputs": [
        {
          "output_type": "stream",
          "name": "stdout",
          "text": [
            "change gear automatically\n",
            "change gear manually\n"
          ]
        }
      ]
    },
    {
      "cell_type": "code",
      "source": [
        "from abc import ABC, abstractmethod\n",
        "class Car(ABC):\n",
        "    def mileage(self):\n",
        "        pass\n",
        "\n",
        "class Tesla(Car):\n",
        "    def mileage(self):\n",
        "        print(\"The mileage is 30kmph\")\n",
        "class Suzuki(Car):\n",
        "    def mileage(self):\n",
        "        print(\"The mileage is 25kmph \")\n",
        "class Duster(Car):\n",
        "     def mileage(self):\n",
        "          print(\"The mileage is 24kmph \")\n",
        "\n",
        "class Renault(Car):\n",
        "    def mileage(self):\n",
        "            print(\"The mileage is 27kmph \")\n",
        "\n",
        "# Driver code\n",
        "t= Tesla ()\n",
        "t.mileage()\n",
        "\n",
        "r = Renault()\n",
        "r.mileage()\n",
        "\n",
        "s = Suzuki()\n",
        "s.mileage()\n",
        "d = Duster()\n",
        "d.mileage()"
      ],
      "metadata": {
        "colab": {
          "base_uri": "https://localhost:8080/"
        },
        "id": "O83FIf8cKlZh",
        "outputId": "29810cc4-4b18-4e90-a3a3-c42519def706"
      },
      "execution_count": null,
      "outputs": [
        {
          "output_type": "stream",
          "name": "stdout",
          "text": [
            "The mileage is 30kmph\n",
            "The mileage is 27kmph \n",
            "The mileage is 25kmph \n",
            "The mileage is 24kmph \n"
          ]
        }
      ]
    },
    {
      "cell_type": "code",
      "source": [],
      "metadata": {
        "id": "PuGxQ7djL-i8"
      },
      "execution_count": null,
      "outputs": []
    }
  ]
}