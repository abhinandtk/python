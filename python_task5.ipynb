{
  "nbformat": 4,
  "nbformat_minor": 0,
  "metadata": {
    "colab": {
      "provenance": [],
      "authorship_tag": "ABX9TyO9YvIMInrgT6TgilMo8nIk",
      "include_colab_link": true
    },
    "kernelspec": {
      "name": "python3",
      "display_name": "Python 3"
    },
    "language_info": {
      "name": "python"
    }
  },
  "cells": [
    {
      "cell_type": "markdown",
      "metadata": {
        "id": "view-in-github",
        "colab_type": "text"
      },
      "source": [
        "<a href=\"https://colab.research.google.com/github/abhinandtk/python_data_types/blob/main/python_task5.ipynb\" target=\"_parent\"><img src=\"https://colab.research.google.com/assets/colab-badge.svg\" alt=\"Open In Colab\"/></a>"
      ]
    },
    {
      "cell_type": "markdown",
      "source": [
        "1.Write a program that makes the user guess a particular number between 1 and 100. Save the number to be guessed in a variable called magic_number.\n",
        "If the user guesses a number higher than the secret number, you should say Too high!. Similarly, you should say Too low! if they guess a number lower than the secret number. Once they guess the number, say Correct!"
      ],
      "metadata": {
        "id": "cCQ_CNfvV3j-"
      }
    },
    {
      "cell_type": "code",
      "source": [
        "secret_number=55\n",
        "count=0\n",
        "while (count==0):\n",
        " magic_number=int(input(\"enter a number 1-100 :\"))\n",
        " if(secret_number==magic_number):\n",
        "   print(\"correct\")\n",
        "   count=1\n",
        " elif(secret_number<magic_number):\n",
        "   print(\"Too high\")\n",
        " elif(secret_number>magic_number):\n",
        "   print(\"Too low\")\n",
        " else:\n",
        "   print(\"invalid\")\n"
      ],
      "metadata": {
        "colab": {
          "base_uri": "https://localhost:8080/"
        },
        "id": "kU-CbzlZXNtI",
        "outputId": "c21e6d51-73cc-406a-da65-6d20726ee1b6"
      },
      "execution_count": null,
      "outputs": [
        {
          "output_type": "stream",
          "name": "stdout",
          "text": [
            "enter a number 1-100 :55\n",
            "correct\n"
          ]
        }
      ]
    },
    {
      "cell_type": "markdown",
      "source": [
        "2.Write a program where the user enters a number. If the number matches the number, acknowledge the user and stop the program. If the number does not match, keep asking for the next number."
      ],
      "metadata": {
        "id": "66KCovf5X5WV"
      }
    },
    {
      "cell_type": "code",
      "source": [
        "secret_number=55\n",
        "count=0\n",
        "while (count==0):\n",
        " magic_number=int(input(\"enter a number :\"))\n",
        " if(secret_number==magic_number):\n",
        "   print(\"correct\")\n",
        "   count=1\n",
        " elif(secret_number!=magic_number):\n",
        "   print(\"you are wrong\")\n",
        " else:\n",
        "   print(\"invalid\")"
      ],
      "metadata": {
        "colab": {
          "base_uri": "https://localhost:8080/"
        },
        "id": "2rDK1UrhY9Q6",
        "outputId": "031ec1a7-b090-4e83-ca4e-6abf0d37d7ac"
      },
      "execution_count": null,
      "outputs": [
        {
          "output_type": "stream",
          "name": "stdout",
          "text": [
            "enter a number :43\n",
            "you are wrong\n",
            "enter a number :87\n",
            "you are wrong\n",
            "enter a number :55\n",
            "correct\n"
          ]
        }
      ]
    },
    {
      "cell_type": "markdown",
      "source": [
        "3.Write a function calculation() such that it can accept two variables and calculate the addition and subtraction of them. And also it must return both addition and subtraction in a single return call"
      ],
      "metadata": {
        "id": "0FUODNiJZ_xF"
      }
    },
    {
      "cell_type": "code",
      "source": [
        "a=int(input(\"enter first number\"))\n",
        "b=int(input(\"enter second number\"))\n",
        "def calculation(a,b):\n",
        " add=a+b\n",
        " sub=a-b\n",
        " return(add,sub)\n",
        "calculation(a,b)"
      ],
      "metadata": {
        "colab": {
          "base_uri": "https://localhost:8080/"
        },
        "id": "xEglVmStcyh_",
        "outputId": "afe95a59-addd-4d86-b1d1-d768b3b6ea54"
      },
      "execution_count": null,
      "outputs": [
        {
          "name": "stdout",
          "output_type": "stream",
          "text": [
            "enter first number7\n",
            "enter second number9\n"
          ]
        },
        {
          "output_type": "execute_result",
          "data": {
            "text/plain": [
              "(16, -2)"
            ]
          },
          "metadata": {},
          "execution_count": 13
        }
      ]
    },
    {
      "cell_type": "code",
      "source": [],
      "metadata": {
        "id": "n_0LAhiVdOeg"
      },
      "execution_count": null,
      "outputs": []
    }
  ]
}