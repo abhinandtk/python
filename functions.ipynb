{
  "nbformat": 4,
  "nbformat_minor": 0,
  "metadata": {
    "colab": {
      "provenance": [],
      "authorship_tag": "ABX9TyOQf/9P+SGN6m0skZGgrjli",
      "include_colab_link": true
    },
    "kernelspec": {
      "name": "python3",
      "display_name": "Python 3"
    },
    "language_info": {
      "name": "python"
    }
  },
  "cells": [
    {
      "cell_type": "markdown",
      "metadata": {
        "id": "view-in-github",
        "colab_type": "text"
      },
      "source": [
        "<a href=\"https://colab.research.google.com/github/abhinandtk/python_data_types/blob/main/functions.ipynb\" target=\"_parent\"><img src=\"https://colab.research.google.com/assets/colab-badge.svg\" alt=\"Open In Colab\"/></a>"
      ]
    },
    {
      "cell_type": "code",
      "execution_count": null,
      "metadata": {
        "colab": {
          "base_uri": "https://localhost:8080/"
        },
        "id": "CLj8bv073xmm",
        "outputId": "d63c9193-81e5-4e92-9188-880c7e2d1dd8"
      },
      "outputs": [
        {
          "output_type": "stream",
          "name": "stdout",
          "text": [
            "enter number4\n",
            "24\n"
          ]
        }
      ],
      "source": [
        "def  sum():\n",
        " fact=1\n",
        " a=int(input(\"enter number\"))\n",
        " for i in range(1,a+1):\n",
        "   fact=fact*i\n",
        " print(fact)\n",
        "sum()\n"
      ]
    },
    {
      "cell_type": "code",
      "source": [
        "def sum(a,b):\n",
        "  print(a+b)\n",
        "sum(1,4)"
      ],
      "metadata": {
        "colab": {
          "base_uri": "https://localhost:8080/"
        },
        "id": "-MuqBCDS4TGM",
        "outputId": "b177fa04-5905-471f-bdb1-92e41c172a37"
      },
      "execution_count": null,
      "outputs": [
        {
          "output_type": "stream",
          "name": "stdout",
          "text": [
            "5\n"
          ]
        }
      ]
    },
    {
      "cell_type": "code",
      "source": [
        "def  sum(a):\n",
        " fact=1\n",
        " for i in range(1,a+1):       #factorial in function\n",
        "   fact=fact*i\n",
        " print(fact)\n",
        "sum(5)"
      ],
      "metadata": {
        "colab": {
          "base_uri": "https://localhost:8080/"
        },
        "id": "wamQ1tl18fG7",
        "outputId": "48ad497f-70f3-4f35-d5ed-6d73ff816e62"
      },
      "execution_count": null,
      "outputs": [
        {
          "output_type": "stream",
          "name": "stdout",
          "text": [
            "120\n"
          ]
        }
      ]
    },
    {
      "cell_type": "code",
      "source": [
        "def fib(a):\n",
        "  b=0\n",
        "  c=1\n",
        "  print(b)\n",
        "  print(c)\n",
        "  for i in range(0,a-1):\n",
        "    sum=b+c\n",
        "    b=c                                       #fibanocci  fuction\n",
        "    c=sum\n",
        "    print(sum)\n",
        "fib(8)\n"
      ],
      "metadata": {
        "colab": {
          "base_uri": "https://localhost:8080/"
        },
        "id": "UmFolpe59M59",
        "outputId": "d3737723-8a3a-4e71-db0e-e0eaa7c60374"
      },
      "execution_count": null,
      "outputs": [
        {
          "output_type": "stream",
          "name": "stdout",
          "text": [
            "0\n",
            "1\n",
            "1\n",
            "2\n",
            "3\n",
            "5\n",
            "8\n",
            "13\n",
            "21\n"
          ]
        }
      ]
    },
    {
      "cell_type": "code",
      "source": [
        "def  sum(a):\n",
        " fact=1\n",
        " for i in range(1,a+1):       #factorial function using return\n",
        "   fact=fact*i\n",
        " return(fact)\n",
        "sum(5)"
      ],
      "metadata": {
        "colab": {
          "base_uri": "https://localhost:8080/"
        },
        "id": "ubSfqVvx_EI5",
        "outputId": "98c3f856-6f7c-41c5-f32b-a94509901590"
      },
      "execution_count": null,
      "outputs": [
        {
          "output_type": "execute_result",
          "data": {
            "text/plain": [
              "120"
            ]
          },
          "metadata": {},
          "execution_count": 40
        }
      ]
    },
    {
      "cell_type": "code",
      "source": [
        "def fib(a):\n",
        "  b=0\n",
        "  c=1\n",
        "  print(b)\n",
        "  print(c)\n",
        "  for i in range(0,a-1):\n",
        "    sum=b+c\n",
        "    b=c                                       #fibanocci  fuction\n",
        "    c=sum\n",
        "  return(sum)\n",
        "fib(8)\n"
      ],
      "metadata": {
        "colab": {
          "base_uri": "https://localhost:8080/"
        },
        "id": "s5ZllZBfAf_N",
        "outputId": "de1bd373-d5f1-4e40-ea27-b26c7b4e502f"
      },
      "execution_count": null,
      "outputs": [
        {
          "output_type": "stream",
          "name": "stdout",
          "text": [
            "0\n",
            "1\n"
          ]
        },
        {
          "output_type": "execute_result",
          "data": {
            "text/plain": [
              "21"
            ]
          },
          "metadata": {},
          "execution_count": 43
        }
      ]
    },
    {
      "cell_type": "code",
      "source": [],
      "metadata": {
        "id": "3i3WezAPCchk"
      },
      "execution_count": null,
      "outputs": []
    }
  ]
}